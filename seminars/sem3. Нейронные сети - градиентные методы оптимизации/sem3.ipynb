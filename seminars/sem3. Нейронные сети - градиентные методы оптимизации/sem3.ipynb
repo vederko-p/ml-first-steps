{
 "cells": [
  {
   "cell_type": "markdown",
   "id": "determined-defeat",
   "metadata": {},
   "source": [
    "## Семинар 3. Нейронные сети: градиентные методы оптимизации"
   ]
  },
  {
   "cell_type": "markdown",
   "id": "corresponding-helen",
   "metadata": {},
   "source": [
    "**Библиотеки**"
   ]
  },
  {
   "cell_type": "code",
   "execution_count": 2,
   "id": "liked-singer",
   "metadata": {},
   "outputs": [],
   "source": [
    "import matplotlib.pyplot as plt\n",
    "from matplotlib import gridspec\n",
    "import seaborn as sns\n",
    "import pandas as pd\n",
    "from tqdm.notebook import tqdm\n",
    "\n",
    "from scipy.special import expit\n",
    "import numpy as np\n",
    "import torch\n",
    "\n",
    "from sklearn.model_selection import LeaveOneOut, KFold\n",
    "from sklearn.metrics import classification_report\n",
    "from sklearn.model_selection import ParameterGrid\n",
    "\n",
    "from torchvision import datasets\n",
    "from torchvision import transforms"
   ]
  },
  {
   "cell_type": "markdown",
   "id": "attractive-experience",
   "metadata": {},
   "source": [
    "**1. Автоматическое дифференцирование**"
   ]
  },
  {
   "cell_type": "markdown",
   "id": "powerful-buying",
   "metadata": {},
   "source": [
    "Back Propagation - частный случай автоматического дифференцирования."
   ]
  },
  {
   "cell_type": "markdown",
   "id": "absent-department",
   "metadata": {},
   "source": [
    "**Пример**"
   ]
  },
  {
   "cell_type": "markdown",
   "id": "vital-cooking",
   "metadata": {},
   "source": [
    "Рассмотрим функцию\n",
    "<center>$\n",
    "\\begin{equation*}\n",
    "    f(\\mathbf{x})=\n",
    "        x_3\\cdot\n",
    "        \\cos\\left(\n",
    "            \\dfrac{x_1}{x_2}\n",
    "        \\right)\\cdot\n",
    "        \\left(\n",
    "            \\exp(x_3)+\\dfrac{x_1}{x_2}\n",
    "        \\right)\n",
    "\\end{equation*}\n",
    "$</center>\n",
    "\n",
    "Пусть необходимо найти градиент данной функции.  "
   ]
  },
  {
   "cell_type": "markdown",
   "id": "controlling-league",
   "metadata": {},
   "source": [
    "Представим граф вычилений данной функции:\n",
    "![Граф вычислений](img/calc_graph.png \"Граф вычислений\")\n",
    "\n",
    "Рассмотрим производную $\\partial f/\\partial x_1$."
   ]
  },
  {
   "cell_type": "markdown",
   "id": "ideal-waters",
   "metadata": {},
   "source": [
    "**Дифференцирование вперед**"
   ]
  },
  {
   "cell_type": "markdown",
   "id": "tamil-crowd",
   "metadata": {},
   "source": [
    "* $\\dfrac{\\partial z_1}{\\partial x_1}=\\dfrac{1}{x_2}$\n",
    "* $\\dfrac{\\partial z_2}{\\partial x_1}=0$\n",
    "* $\\dfrac{\\partial z_3}{\\partial x_1}=\\dfrac{\\partial z_3}{\\partial z_1}\\cdot\\dfrac{\\partial z_1}{\\partial x_1}=-\\sin\\left(\\dfrac{x1}{x2}\\right)\\dfrac{1}{x_2}$\n",
    "* $\\dfrac{\\partial z_4}{\\partial x_1}=\\dfrac{\\partial z_4}{\\partial z_1}\\cdot\\dfrac{\\partial z_1}{\\partial x_1}+\\dfrac{\\partial z_4}{\\partial z_2}\\cdot\\dfrac{\\partial z_2}{\\partial x_1}=\\dfrac{1}{x_2}$\n",
    "* $\\dfrac{\\partial z_5}{\\partial x_1}=\\dfrac{\\partial z_5}{\\partial z_3}\\cdot\\dfrac{\\partial z_3}{\\partial x_1}+\\dfrac{\\partial z_5}{\\partial z_4}\\dfrac{\\partial z_4}{\\partial x_1}=-\\sin\\left(\\dfrac{x_1}{x_2}\\right)\\dfrac{1}{x_2}\\left(\\exp(x_3)+\\dfrac{x_1}{x_2}\\right)+\\cos\\left(\\dfrac{x_1}{x_2}\\right)\\dfrac{1}{x_2}$\n",
    "* $\\dfrac{\\partial z_6}{\\partial x_1}=\\dfrac{\\partial z_6}{\\partial z_5}\\cdot\\dfrac{\\partial z_5}{\\partial x_1}+\\dfrac{\\partial z_6}{\\partial x_3}\\cdot\\dfrac{\\partial x_3}{\\partial x_1}=x_3\\left(-\\sin\\left(\\dfrac{x_1}{x_2}\\right)\\dfrac{1}{x_2}\\left(\\exp(x_3)+\\dfrac{x_1}{x_2}\\right)+\\cos\\left(\\dfrac{x_1}{x_2}\\right)\\dfrac{1}{x_2}\\right)$\n",
    "* $\\dfrac{\\partial f}{\\partial x_1}=\\dfrac{\\partial f}{\\partial x_1}\\cdot\\dfrac{\\partial z_6}{\\partial x_1}=x_3\\left(-\\sin\\left(\\dfrac{x_1}{x_2}\\right)\\dfrac{1}{x_2}\\left(\\exp(x_3)+\\dfrac{x_1}{x_2}\\right)+\\cos\\left(\\dfrac{x_1}{x_2}\\right)\\dfrac{1}{x_2}\\right)$"
   ]
  },
  {
   "cell_type": "markdown",
   "id": "reflected-chapel",
   "metadata": {},
   "source": [
    "**Дифференцирование назад**"
   ]
  },
  {
   "cell_type": "markdown",
   "id": "integrated-steering",
   "metadata": {},
   "source": [
    "![Дифференцирование назад](img/diff_back.png 'Дифференцирование назад')"
   ]
  },
  {
   "cell_type": "markdown",
   "id": "nutritional-disney",
   "metadata": {},
   "source": [
    "Дифференцирование назад применяется при вычислении градиента сложных функций. А нейросеть и есть сложная функция. Применение дифференцирования назад при обучении сети называется Back Propagation."
   ]
  },
  {
   "cell_type": "markdown",
   "id": "joined-bhutan",
   "metadata": {},
   "source": [
    "**Плюсы и минусы методов**"
   ]
  },
  {
   "cell_type": "markdown",
   "id": "extra-douglas",
   "metadata": {},
   "source": [
    "Дифференцирование веред:\n",
    "* использует меньше памяти, чем дифференцирование назад;\n",
    "* вычислительная сложность зависит от числа параметров.\n",
    "\n",
    "Дифференцирование назад:\n",
    "* использует больше памяти, чем дифференцирование вперед;\n",
    "* вычислительная сложность не зависит от числа параметров."
   ]
  },
  {
   "cell_type": "markdown",
   "id": "innocent-circle",
   "metadata": {},
   "source": [
    "**2. MNIST Dataset**"
   ]
  },
  {
   "cell_type": "code",
   "execution_count": 3,
   "id": "impaired-visit",
   "metadata": {},
   "outputs": [
    {
     "name": "stdout",
     "output_type": "stream",
     "text": [
      "Downloading http://yann.lecun.com/exdb/mnist/train-images-idx3-ubyte.gz\n",
      "Downloading http://yann.lecun.com/exdb/mnist/train-images-idx3-ubyte.gz to ./mnist\\MNIST\\raw\\train-images-idx3-ubyte.gz\n"
     ]
    },
    {
     "data": {
      "application/vnd.jupyter.widget-view+json": {
       "model_id": "b6e4668860f34e72a7ba9a3134999a9b",
       "version_major": 2,
       "version_minor": 0
      },
      "text/plain": [
       "  0%|          | 0/9912422 [00:00<?, ?it/s]"
      ]
     },
     "metadata": {},
     "output_type": "display_data"
    },
    {
     "name": "stdout",
     "output_type": "stream",
     "text": [
      "Extracting ./mnist\\MNIST\\raw\\train-images-idx3-ubyte.gz to ./mnist\\MNIST\\raw\n",
      "\n",
      "Downloading http://yann.lecun.com/exdb/mnist/train-labels-idx1-ubyte.gz\n",
      "Downloading http://yann.lecun.com/exdb/mnist/train-labels-idx1-ubyte.gz to ./mnist\\MNIST\\raw\\train-labels-idx1-ubyte.gz\n"
     ]
    },
    {
     "data": {
      "application/vnd.jupyter.widget-view+json": {
       "model_id": "b72b344fb73442f9ac073e053ad61139",
       "version_major": 2,
       "version_minor": 0
      },
      "text/plain": [
       "  0%|          | 0/28881 [00:00<?, ?it/s]"
      ]
     },
     "metadata": {},
     "output_type": "display_data"
    },
    {
     "name": "stdout",
     "output_type": "stream",
     "text": [
      "Extracting ./mnist\\MNIST\\raw\\train-labels-idx1-ubyte.gz to ./mnist\\MNIST\\raw\n",
      "\n",
      "Downloading http://yann.lecun.com/exdb/mnist/t10k-images-idx3-ubyte.gz\n",
      "Downloading http://yann.lecun.com/exdb/mnist/t10k-images-idx3-ubyte.gz to ./mnist\\MNIST\\raw\\t10k-images-idx3-ubyte.gz\n"
     ]
    },
    {
     "data": {
      "application/vnd.jupyter.widget-view+json": {
       "model_id": "8843345f1c314632b11f79a27c910460",
       "version_major": 2,
       "version_minor": 0
      },
      "text/plain": [
       "  0%|          | 0/1648877 [00:00<?, ?it/s]"
      ]
     },
     "metadata": {},
     "output_type": "display_data"
    },
    {
     "name": "stdout",
     "output_type": "stream",
     "text": [
      "Extracting ./mnist\\MNIST\\raw\\t10k-images-idx3-ubyte.gz to ./mnist\\MNIST\\raw\n",
      "\n",
      "Downloading http://yann.lecun.com/exdb/mnist/t10k-labels-idx1-ubyte.gz\n",
      "Downloading http://yann.lecun.com/exdb/mnist/t10k-labels-idx1-ubyte.gz to ./mnist\\MNIST\\raw\\t10k-labels-idx1-ubyte.gz\n"
     ]
    },
    {
     "data": {
      "application/vnd.jupyter.widget-view+json": {
       "model_id": "9c9e04496fa343d1818b15d2f55b53b5",
       "version_major": 2,
       "version_minor": 0
      },
      "text/plain": [
       "  0%|          | 0/4542 [00:00<?, ?it/s]"
      ]
     },
     "metadata": {},
     "output_type": "display_data"
    },
    {
     "name": "stdout",
     "output_type": "stream",
     "text": [
      "Extracting ./mnist\\MNIST\\raw\\t10k-labels-idx1-ubyte.gz to ./mnist\\MNIST\\raw\n",
      "\n"
     ]
    },
    {
     "name": "stderr",
     "output_type": "stream",
     "text": [
      "c:\\users\\ski6a\\appdata\\local\\programs\\python\\python37\\lib\\site-packages\\torchvision\\datasets\\mnist.py:498: UserWarning: The given NumPy array is not writeable, and PyTorch does not support non-writeable tensors. This means you can write to the underlying (supposedly non-writeable) NumPy array using the tensor. You may want to copy the array to protect its data or make it writeable before converting it to a tensor. This type of warning will be suppressed for the rest of this program. (Triggered internally at  ..\\torch\\csrc\\utils\\tensor_numpy.cpp:180.)\n",
      "  return torch.from_numpy(parsed.astype(m[2], copy=False)).view(*s)\n"
     ]
    }
   ],
   "source": [
    "MNIST_train = datasets.MNIST('./mnist', train=True, download=True,\n",
    "                             transform=transforms.ToTensor())\n",
    "\n",
    "MNIST_test = datasets.MNIST('./mnist', train=False, download=True,\n",
    "                             transform=transforms.ToTensor())\n",
    "\n",
    "# Изначально датасет представлен в виде изображений PIL image.\n",
    "# Для того, чтобы получить данные в удобном для torch виде, применяется\n",
    "# трансформация transform=transforms.ToTensor()"
   ]
  },
  {
   "cell_type": "markdown",
   "id": "dressed-mortgage",
   "metadata": {},
   "source": [
    "**Выборка**"
   ]
  },
  {
   "cell_type": "code",
   "execution_count": 5,
   "id": "loving-airline",
   "metadata": {},
   "outputs": [
    {
     "data": {
      "image/png": "[encoded data removed]",
      "text/plain": [
       "<Figure size 1368x288 with 4 Axes>"
      ]
     },
     "metadata": {
      "needs_background": "light"
     },
     "output_type": "display_data"
    }
   ],
   "source": [
    "fig, gs = plt.figure(figsize=(19,4)), gridspec.GridSpec(1, 4)\n",
    "\n",
    "ax = []\n",
    "\n",
    "for i in range(4):\n",
    "    ax.append(fig.add_subplot(gs[i]))\n",
    "    ax[i].imshow(np.array(MNIST_train[i][0][0]), 'gray')\n",
    "    \n",
    "plt.show()"
   ]
  },
  {
   "cell_type": "markdown",
   "id": "narrow-marshall",
   "metadata": {},
   "source": [
    "Нейросеть принимает на вход вектор, таким образом небходимо \"растянуть\" матрицу в вектор - первая строка - первые 28 элементов вектора, вторая строка - вторые 28 элеметнов и т.д."
   ]
  },
  {
   "cell_type": "markdown",
   "id": "alpha-structure",
   "metadata": {},
   "source": [
    "**Полносвязная нейронная сеть (Персептрон)**"
   ]
  },
  {
   "cell_type": "markdown",
   "id": "adaptive-theater",
   "metadata": {},
   "source": [
    "![Персептрон](img/perseptron.png 'Персептрон')"
   ]
  },
  {
   "cell_type": "markdown",
   "id": "protected-warehouse",
   "metadata": {},
   "source": [
    "Пусть количество нейронов в каждом скрытом слое одинаковое. Пусть функции активации везде одинаковые."
   ]
  },
  {
   "cell_type": "markdown",
   "id": "separate-tradition",
   "metadata": {},
   "source": [
    "Перепишем в матричном виде:\n",
    "<center>$\n",
    "\\begin{equation*}\n",
    "    f(\\mathbf{w}, W)=\n",
    "    W_{n_2+1}\\sigma\\left(\n",
    "        \\cdots W_2\\sigma\\left(\n",
    "            W_1\\mathbf{x}\n",
    "        \\right)\\cdots\n",
    "    \\right)\n",
    "\\end{equation*}\n",
    "$,</center>\n",
    "\n",
    "где\n",
    "* $n$ - размерность пространства признаков (`input_dim`);\n",
    "* $n_1$ - размерность скрытого слоя (`hidden_dim`);\n",
    "* $n_2$ - количество скрытых слоев (`num_layers`);\n",
    "* $n_3$ - размерность пространтсва ответов (`output_dim`).\n",
    "\n",
    "Заметим, что при $n_2=0$ получается линейная модель, то есть линейная модель это частный случай полносвязного персептрона."
   ]
  },
  {
   "cell_type": "markdown",
   "id": "close-investigator",
   "metadata": {},
   "source": [
    "**Задание нейронной сети в PyTorch**"
   ]
  },
  {
   "cell_type": "code",
   "execution_count": 18,
   "id": "hispanic-speech",
   "metadata": {},
   "outputs": [],
   "source": [
    "class Perceptron(torch.nn.Module):\n",
    "    def __init__(self, input_dim=784, num_layers=0,\n",
    "                 hidden_dim=64, output_dim=10, p=0.0, device='cpu'):\n",
    "        # device - устройство, на котором будут производиться вычисления\n",
    "        \n",
    "        super(Perceptron, self).__init__()\n",
    "        \n",
    "        self.layers = torch.nn.Sequential()\n",
    "        \n",
    "        prev_size = input_dim\n",
    "        for i in range(num_layers):\n",
    "            # Линейный модуль - добавление одного слоя полносвязной\n",
    "            # нейронной сети - реадизация скалярного произведения Wx\n",
    "            self.layers.add_module('layer{}'.format(i+1),\n",
    "                                   torch.nn.Linear(prev_size, hidden_dim))\n",
    "            # torch.nn.Linear(prev_size, hidden_dim),\n",
    "            # prev_size - кол-во нейронов на предыдущем слое (на входе)\n",
    "            # hidden_dim - кол-во нейронов на следующем слое (на выходе)\n",
    "            \n",
    "            # Нелинейный модуль - сигма-функция (в нашем случае ReLU)\n",
    "            self.layers.add_module('relu{}'.format(i+1), torch.nn.ReLU())\n",
    "            \n",
    "            # Удаление нейрона с вероятностью p (Реализация Drop Out):\n",
    "            self.layers.add_module('dropout{}'.format(i+1), torch.nn.Dropout(p=p))\n",
    "            \n",
    "            # Отслеживание согласовонности размерностей выходов и входов\n",
    "            # смежных слоев:\n",
    "            prev_size = hidden_dim\n",
    "            \n",
    "        # Последний линейный слой\n",
    "        self.layers.add_module('classifier',\n",
    "                                torch.nn.Linear(prev_size, output_dim))\n",
    "        self.to(device)\n",
    "        \n",
    "        \n",
    "    def forward(self, input):\n",
    "        return self.layers(input)"
   ]
  },
  {
   "cell_type": "code",
   "execution_count": 19,
   "id": "polyphonic-forward",
   "metadata": {},
   "outputs": [
    {
     "data": {
      "text/plain": [
       "device(type='cpu')"
      ]
     },
     "execution_count": 19,
     "metadata": {},
     "output_type": "execute_result"
    }
   ],
   "source": [
    "# Если есть GPU, то подсчеты будт производиться на GPU, в ином слуаче\n",
    "# расчеты будут производиться на CPU.\n",
    "\n",
    "# Использование GPU для нейронных сетей является наиболее предпочтительным\n",
    "# ввиду того, что матричные вычисления на видеокарте работают намного быстрее,\n",
    "# нежели на процессоре.\n",
    "\n",
    "# У меня почему-то GPU не доступна.\n",
    "\n",
    "device = torch.device('cuda' if torch.cuda.is_available() else 'cpu')\n",
    "device"
   ]
  },
  {
   "cell_type": "markdown",
   "id": "severe-outreach",
   "metadata": {},
   "source": [
    "Что из себя представляет модель Perceptron:"
   ]
  },
  {
   "cell_type": "code",
   "execution_count": 20,
   "id": "czech-indonesia",
   "metadata": {},
   "outputs": [
    {
     "data": {
      "text/plain": [
       "Perceptron(\n",
       "  (layers): Sequential(\n",
       "    (classifier): Linear(in_features=784, out_features=10, bias=True)\n",
       "  )\n",
       ")"
      ]
     },
     "execution_count": 20,
     "metadata": {},
     "output_type": "execute_result"
    }
   ],
   "source": [
    "model = Perceptron(device=device)\n",
    "model"
   ]
  },
  {
   "cell_type": "markdown",
   "id": "willing-british",
   "metadata": {},
   "source": [
    "В слоях содержится только один линейный слой"
   ]
  },
  {
   "cell_type": "code",
   "execution_count": 21,
   "id": "casual-music",
   "metadata": {},
   "outputs": [
    {
     "data": {
      "text/plain": [
       "Perceptron(\n",
       "  (layers): Sequential(\n",
       "    (layer1): Linear(in_features=784, out_features=64, bias=True)\n",
       "    (relu1): ReLU()\n",
       "    (dropout1): Dropout(p=0.0, inplace=False)\n",
       "    (classifier): Linear(in_features=64, out_features=10, bias=True)\n",
       "  )\n",
       ")"
      ]
     },
     "execution_count": 21,
     "metadata": {},
     "output_type": "execute_result"
    }
   ],
   "source": [
    "model = Perceptron(num_layers=1, device=device)\n",
    "model"
   ]
  },
  {
   "cell_type": "markdown",
   "id": "sustained-activity",
   "metadata": {},
   "source": [
    "Слой 1: Линейный слой $\\to$ ReLU $\\to$ DropOut с вер-стью 0 $\\to$ Линейный слой"
   ]
  },
  {
   "cell_type": "markdown",
   "id": "destroyed-shark",
   "metadata": {},
   "source": [
    "В линейных слоях есть параметр `bias=True`. Данный параметр отвечает за добавление единицы к признакам объекта. То есть если `bias=True`, то сами признаки подаются на вход сети без преобразования (без добалвения к ним $1$), PyTorch будет делать это самостоятельно внутри сети."
   ]
  },
  {
   "cell_type": "code",
   "execution_count": 22,
   "id": "unlikely-safety",
   "metadata": {},
   "outputs": [
    {
     "data": {
      "text/plain": [
       "Perceptron(\n",
       "  (layers): Sequential(\n",
       "    (layer1): Linear(in_features=784, out_features=64, bias=True)\n",
       "    (relu1): ReLU()\n",
       "    (dropout1): Dropout(p=0.0, inplace=False)\n",
       "    (layer2): Linear(in_features=64, out_features=64, bias=True)\n",
       "    (relu2): ReLU()\n",
       "    (dropout2): Dropout(p=0.0, inplace=False)\n",
       "    (classifier): Linear(in_features=64, out_features=10, bias=True)\n",
       "  )\n",
       ")"
      ]
     },
     "execution_count": 22,
     "metadata": {},
     "output_type": "execute_result"
    }
   ],
   "source": [
    "model = Perceptron(num_layers=2, device=device)\n",
    "model"
   ]
  },
  {
   "cell_type": "markdown",
   "id": "starting-wallet",
   "metadata": {},
   "source": [
    "В данном случае скрытых слоев уже два. Также учтена согласованность входов и выходов между смежными слоями:  \n",
    "Скрытый: `in_features=784, out_features=64`  \n",
    "Скрытый: `in_features=64, out_features=64`  \n",
    "Выходной: `in_features=64, out_features=10`"
   ]
  },
  {
   "cell_type": "markdown",
   "id": "helpful-iceland",
   "metadata": {},
   "source": [
    "Заметим, что все слои глубокой нейронной сети до выходного представляют собой Feature Engineering. Сам классификатор представляется последним слоем."
   ]
  },
  {
   "cell_type": "code",
   "execution_count": 23,
   "id": "hearing-facility",
   "metadata": {},
   "outputs": [],
   "source": [
    "def testing(model, dataset):\n",
    "    generator = torch.utils.data.DataLoader(dataset, batch_size=64)\n",
    "    # batch_size=64 отвечает за количество объектов, читаемых в одном пакете\n",
    "    # То есть все объекты (в выборке порядка 60 000 объектов) будут браться\n",
    "    # поочередно пакетами по 64 объекта, чтобы не перегружать память.\n",
    "    \n",
    "    pred = []\n",
    "    real = []\n",
    "    for x,y in tqdm(generator, leave=False):\n",
    "        x = x.view([-1, 784]).to(device)\n",
    "        y = y.to(device)\n",
    "        \n",
    "        pred.extend(torch.argmax(model(x), dim=-1).cpu().numpy().tolist())\n",
    "        real.extend(y.cpu().numpy().tolist())\n",
    "        # если подсчет torch.argmax(model(x), dim=-1) производится на GPU,\n",
    "        # то и все промежуточные результаты будут храниться в видеопамяти.\n",
    "        # Для сохранения результатов в оперативную память, необходимо\n",
    "        # перегонять все на процессор применяя .cpu().\n",
    "        # .numpy().tolist() применяется просто для преобразования в удобный \n",
    "        # формат.\n",
    "        \n",
    "    return np.mean(np.array(real) == np.array(pred)), \\\n",
    "           classification_report(real, pred)"
   ]
  },
  {
   "cell_type": "markdown",
   "id": "capital-economy",
   "metadata": {},
   "source": [
    "В данном коде есть минус. Backward работает быстро за счет того, что он помнит все, что считал по дороге. На момент тестирования градиент нам не понадобится, но в данном случае Torch сохранит все промежуточные состояния. Это можно исправить, добавив специальную команду (будет далее)."
   ]
  },
  {
   "cell_type": "code",
   "execution_count": null,
   "id": "intelligent-surrey",
   "metadata": {},
   "outputs": [],
   "source": []
  }
 ],
 "metadata": {
  "kernelspec": {
   "display_name": "Python 3",
   "language": "python",
   "name": "python3"
  },
  "language_info": {
   "codemirror_mode": {
    "name": "ipython",
    "version": 3
   },
   "file_extension": ".py",
   "mimetype": "text/x-python",
   "name": "python",
   "nbconvert_exporter": "python",
   "pygments_lexer": "ipython3",
   "version": "3.7.9"
  }
 },
 "nbformat": 4,
 "nbformat_minor": 5
}
