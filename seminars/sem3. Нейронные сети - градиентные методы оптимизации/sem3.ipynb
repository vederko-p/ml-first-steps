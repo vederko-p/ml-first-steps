{
 "cells": [
  {
   "cell_type": "markdown",
   "id": "determined-defeat",
   "metadata": {},
   "source": [
    "## Семинар 3. Нейронные сети: градиентные методы оптимизации"
   ]
  },
  {
   "cell_type": "markdown",
   "id": "corresponding-helen",
   "metadata": {},
   "source": [
    "**Библиотеки**"
   ]
  },
  {
   "cell_type": "code",
   "execution_count": 2,
   "id": "liked-singer",
   "metadata": {},
   "outputs": [],
   "source": [
    "import matplotlib.pyplot as plt\n",
    "from matplotlib import gridspec\n",
    "import seaborn as sns\n",
    "import pandas as pd\n",
    "from tqdm.notebook import tqdm\n",
    "\n",
    "from scipy.special import expit\n",
    "import numpy as np\n",
    "import torch\n",
    "\n",
    "from sklearn.model_selection import LeaveOneOut, KFold\n",
    "from sklearn.metrics import classification_report\n",
    "from sklearn.model_selection import ParameterGrid\n",
    "\n",
    "from torchvision import datasets\n",
    "from torchvision import transforms"
   ]
  },
  {
   "cell_type": "markdown",
   "id": "attractive-experience",
   "metadata": {},
   "source": [
    "**1. Автоматическое дифференцирование**"
   ]
  },
  {
   "cell_type": "markdown",
   "id": "powerful-buying",
   "metadata": {},
   "source": [
    "Back Propagation - частный случай автоматического дифференцирования."
   ]
  },
  {
   "cell_type": "markdown",
   "id": "absent-department",
   "metadata": {},
   "source": [
    "**Пример**"
   ]
  },
  {
   "cell_type": "markdown",
   "id": "vital-cooking",
   "metadata": {},
   "source": [
    "Рассмотрим функцию\n",
    "<center>$\n",
    "\\begin{equation*}\n",
    "    f(\\mathbf{x})=\n",
    "        x_3\\cdot\n",
    "        \\cos\\left(\n",
    "            \\dfrac{x_1}{x_2}\n",
    "        \\right)\\cdot\n",
    "        \\left(\n",
    "            \\exp(x_3)+\\dfrac{x_1}{x_2}\n",
    "        \\right)\n",
    "\\end{equation*}\n",
    "$</center>\n",
    "\n",
    "Пусть необходимо найти градиент данной функции.  "
   ]
  },
  {
   "cell_type": "markdown",
   "id": "sitting-product",
   "metadata": {},
   "source": [
    "Представим граф вычилений данной функции:\n",
    "![Граф вычислений](img/calc_graph.png \"Граф вычислений\")\n",
    "\n",
    "Рассмотрим производную $\\partial f/\\partial x_1$."
   ]
  },
  {
   "cell_type": "markdown",
   "id": "internal-producer",
   "metadata": {},
   "source": [
    "**Дифференцирование вперед**"
   ]
  },
  {
   "cell_type": "markdown",
   "id": "handmade-chart",
   "metadata": {},
   "source": [
    "* $\\dfrac{\\partial z_1}{\\partial x_1}=\\dfrac{1}{x_2}$\n",
    "* $\\dfrac{\\partial z_2}{\\partial x_1}=0$\n",
    "* $\\dfrac{\\partial z_3}{\\partial x_1}=\\dfrac{\\partial z_3}{\\partial z_1}\\cdot\\dfrac{\\partial z_1}{\\partial x_1}=-\\sin\\left(\\dfrac{x1}{x2}\\right)\\dfrac{1}{x_2}$\n",
    "* $\\dfrac{\\partial z_4}{\\partial x_1}=\\dfrac{\\partial z_4}{\\partial z_1}\\cdot\\dfrac{\\partial z_1}{\\partial x_1}+\\dfrac{\\partial z_4}{\\partial z_2}\\cdot\\dfrac{\\partial z_2}{\\partial x_1}=\\dfrac{1}{x_2}$\n",
    "* $\\dfrac{\\partial z_5}{\\partial x_1}=\\dfrac{\\partial z_5}{\\partial z_3}\\cdot\\dfrac{\\partial z_3}{\\partial x_1}+\\dfrac{\\partial z_5}{\\partial z_4}\\dfrac{\\partial z_4}{\\partial x_1}=-\\sin\\left(\\dfrac{x_1}{x_2}\\right)\\dfrac{1}{x_2}\\left(\\exp(x_3)+\\dfrac{x_1}{x_2}\\right)+\\cos\\left(\\dfrac{x_1}{x_2}\\right)\\dfrac{1}{x_2}$\n",
    "* $\\dfrac{\\partial z_6}{\\partial x_1}=\\dfrac{\\partial z_6}{\\partial z_5}\\cdot\\dfrac{\\partial z_5}{\\partial x_1}+\\dfrac{\\partial z_6}{\\partial x_3}\\cdot\\dfrac{\\partial x_3}{\\partial x_1}=x_3\\left(-\\sin\\left(\\dfrac{x_1}{x_2}\\right)\\dfrac{1}{x_2}\\left(\\exp(x_3)+\\dfrac{x_1}{x_2}\\right)+\\cos\\left(\\dfrac{x_1}{x_2}\\right)\\dfrac{1}{x_2}\\right)$\n",
    "* $\\dfrac{\\partial f}{\\partial x_1}=\\dfrac{\\partial f}{\\partial x_1}\\cdot\\dfrac{\\partial z_6}{\\partial x_1}=x_3\\left(-\\sin\\left(\\dfrac{x_1}{x_2}\\right)\\dfrac{1}{x_2}\\left(\\exp(x_3)+\\dfrac{x_1}{x_2}\\right)+\\cos\\left(\\dfrac{x_1}{x_2}\\right)\\dfrac{1}{x_2}\\right)$"
   ]
  },
  {
   "cell_type": "markdown",
   "id": "structured-tuner",
   "metadata": {},
   "source": [
    "**Дифференцирование назад**"
   ]
  },
  {
   "cell_type": "markdown",
   "id": "extra-resolution",
   "metadata": {},
   "source": [
    "![Дифференцирование назад](img/diff_back.png 'Дифференцирование назад')"
   ]
  },
  {
   "cell_type": "markdown",
   "id": "prepared-ticket",
   "metadata": {},
   "source": [
    "Дифференцирование назад применяется при вычислении градиента сложных функций. А нейросеть и есть сложная функция. Применение дифференцирования назад при обучении сети называется Back Propagation."
   ]
  },
  {
   "cell_type": "markdown",
   "id": "dangerous-parker",
   "metadata": {},
   "source": [
    "**Плюсы и минусы методов**"
   ]
  },
  {
   "cell_type": "markdown",
   "id": "initial-bryan",
   "metadata": {},
   "source": [
    "Дифференцирование веред:\n",
    "* использует меньше памяти, чем дифференцирование назад;\n",
    "* вычислительная сложность зависит от числа параметров.\n",
    "\n",
    "Дифференцирование назад:\n",
    "* использует больше памяти, чем дифференцирование вперед;\n",
    "* вычислительная сложность не зависит от числа параметров."
   ]
  },
  {
   "cell_type": "markdown",
   "id": "federal-veteran",
   "metadata": {},
   "source": [
    "**2. MNIST Dataset**"
   ]
  },
  {
   "cell_type": "code",
   "execution_count": 3,
   "id": "amino-heritage",
   "metadata": {},
   "outputs": [
    {
     "name": "stdout",
     "output_type": "stream",
     "text": [
      "Downloading http://yann.lecun.com/exdb/mnist/train-images-idx3-ubyte.gz\n",
      "Downloading http://yann.lecun.com/exdb/mnist/train-images-idx3-ubyte.gz to ./mnist\\MNIST\\raw\\train-images-idx3-ubyte.gz\n"
     ]
    },
    {
     "data": {
      "application/vnd.jupyter.widget-view+json": {
       "model_id": "b6e4668860f34e72a7ba9a3134999a9b",
       "version_major": 2,
       "version_minor": 0
      },
      "text/plain": [
       "  0%|          | 0/9912422 [00:00<?, ?it/s]"
      ]
     },
     "metadata": {},
     "output_type": "display_data"
    },
    {
     "name": "stdout",
     "output_type": "stream",
     "text": [
      "Extracting ./mnist\\MNIST\\raw\\train-images-idx3-ubyte.gz to ./mnist\\MNIST\\raw\n",
      "\n",
      "Downloading http://yann.lecun.com/exdb/mnist/train-labels-idx1-ubyte.gz\n",
      "Downloading http://yann.lecun.com/exdb/mnist/train-labels-idx1-ubyte.gz to ./mnist\\MNIST\\raw\\train-labels-idx1-ubyte.gz\n"
     ]
    },
    {
     "data": {
      "application/vnd.jupyter.widget-view+json": {
       "model_id": "b72b344fb73442f9ac073e053ad61139",
       "version_major": 2,
       "version_minor": 0
      },
      "text/plain": [
       "  0%|          | 0/28881 [00:00<?, ?it/s]"
      ]
     },
     "metadata": {},
     "output_type": "display_data"
    },
    {
     "name": "stdout",
     "output_type": "stream",
     "text": [
      "Extracting ./mnist\\MNIST\\raw\\train-labels-idx1-ubyte.gz to ./mnist\\MNIST\\raw\n",
      "\n",
      "Downloading http://yann.lecun.com/exdb/mnist/t10k-images-idx3-ubyte.gz\n",
      "Downloading http://yann.lecun.com/exdb/mnist/t10k-images-idx3-ubyte.gz to ./mnist\\MNIST\\raw\\t10k-images-idx3-ubyte.gz\n"
     ]
    },
    {
     "data": {
      "application/vnd.jupyter.widget-view+json": {
       "model_id": "8843345f1c314632b11f79a27c910460",
       "version_major": 2,
       "version_minor": 0
      },
      "text/plain": [
       "  0%|          | 0/1648877 [00:00<?, ?it/s]"
      ]
     },
     "metadata": {},
     "output_type": "display_data"
    },
    {
     "name": "stdout",
     "output_type": "stream",
     "text": [
      "Extracting ./mnist\\MNIST\\raw\\t10k-images-idx3-ubyte.gz to ./mnist\\MNIST\\raw\n",
      "\n",
      "Downloading http://yann.lecun.com/exdb/mnist/t10k-labels-idx1-ubyte.gz\n",
      "Downloading http://yann.lecun.com/exdb/mnist/t10k-labels-idx1-ubyte.gz to ./mnist\\MNIST\\raw\\t10k-labels-idx1-ubyte.gz\n"
     ]
    },
    {
     "data": {
      "application/vnd.jupyter.widget-view+json": {
       "model_id": "9c9e04496fa343d1818b15d2f55b53b5",
       "version_major": 2,
       "version_minor": 0
      },
      "text/plain": [
       "  0%|          | 0/4542 [00:00<?, ?it/s]"
      ]
     },
     "metadata": {},
     "output_type": "display_data"
    },
    {
     "name": "stdout",
     "output_type": "stream",
     "text": [
      "Extracting ./mnist\\MNIST\\raw\\t10k-labels-idx1-ubyte.gz to ./mnist\\MNIST\\raw\n",
      "\n"
     ]
    },
    {
     "name": "stderr",
     "output_type": "stream",
     "text": [
      "c:\\users\\ski6a\\appdata\\local\\programs\\python\\python37\\lib\\site-packages\\torchvision\\datasets\\mnist.py:498: UserWarning: The given NumPy array is not writeable, and PyTorch does not support non-writeable tensors. This means you can write to the underlying (supposedly non-writeable) NumPy array using the tensor. You may want to copy the array to protect its data or make it writeable before converting it to a tensor. This type of warning will be suppressed for the rest of this program. (Triggered internally at  ..\\torch\\csrc\\utils\\tensor_numpy.cpp:180.)\n",
      "  return torch.from_numpy(parsed.astype(m[2], copy=False)).view(*s)\n"
     ]
    }
   ],
   "source": [
    "MNIST_train = datasets.MNIST('./mnist', train=True, download=True,\n",
    "                             transform=transforms.ToTensor())\n",
    "\n",
    "MNIST_test = datasets.MNIST('./mnist', train=False, download=True,\n",
    "                             transform=transforms.ToTensor())\n",
    "\n",
    "# Изначально датасет представлен в виде изображений PIL image.\n",
    "# Для того, чтобы получить данные в удобном для torch виде, применяется\n",
    "# трансформация transform=transforms.ToTensor()"
   ]
  },
  {
   "cell_type": "markdown",
   "id": "appropriate-flexibility",
   "metadata": {},
   "source": [
    "**Выборка**"
   ]
  },
  {
   "cell_type": "code",
   "execution_count": 5,
   "id": "caring-preparation",
   "metadata": {},
   "outputs": [
    {
     "data": {
      "image/png": "[encoded data removed]",
      "text/plain": [
       "<Figure size 1368x288 with 4 Axes>"
      ]
     },
     "metadata": {
      "needs_background": "light"
     },
     "output_type": "display_data"
    }
   ],
   "source": [
    "fig, gs = plt.figure(figsize=(19,4)), gridspec.GridSpec(1, 4)\n",
    "\n",
    "ax = []\n",
    "\n",
    "for i in range(4):\n",
    "    ax.append(fig.add_subplot(gs[i]))\n",
    "    ax[i].imshow(np.array(MNIST_train[i][0][0]), 'gray')\n",
    "    \n",
    "plt.show()"
   ]
  },
  {
   "cell_type": "markdown",
   "id": "regulation-bacon",
   "metadata": {},
   "source": [
    "Нейросеть принимает на вход вектор, таким образом небходимо \"растянуть\" матрицу в вектор - первая строка - первые 28 элементов вектора, вторая строка - вторые 28 элеметнов и т.д."
   ]
  },
  {
   "cell_type": "markdown",
   "id": "religious-convert",
   "metadata": {},
   "source": [
    "**Полносвязная нейронная сеть (Персептрон)**"
   ]
  },
  {
   "cell_type": "markdown",
   "id": "statutory-interpretation",
   "metadata": {},
   "source": [
    "![Персептрон](img/perseptron.png 'Персептрон')"
   ]
  },
  {
   "cell_type": "markdown",
   "id": "satisfactory-filing",
   "metadata": {},
   "source": [
    "Пусть количество нейронов в каждом скрытом слое одинаковое. Пусть функции активации везде одинаковые."
   ]
  },
  {
   "cell_type": "markdown",
   "id": "korean-latino",
   "metadata": {},
   "source": [
    "Перепишем в матричном виде:\n",
    "<center>$\n",
    "\\begin{equation*}\n",
    "    f(\\mathbf{w}, W)=\n",
    "    W_{n_2+1}\\sigma\\left(\n",
    "        \\cdots W_2\\sigma\\left(\n",
    "            W_1\\mathbf{x}\n",
    "        \\right)\\cdots\n",
    "    \\right)\n",
    "\\end{equation*}\n",
    "$,</center>\n",
    "\n",
    "где\n",
    "* $n$ - размерность пространства признаков (`input_dim`);\n",
    "* $n_1$ - размерность скрытого слоя (`hidden_dim`);\n",
    "* $n_2$ - количество скрытых слоев (`num_layers`);\n",
    "* $n_3$ - размерность пространтсва ответов (`output_dim`).\n",
    "\n",
    "Заметим, что при $n_2=0$ получается линейная модель, то есть линейная модель это частный случай полносвязного персептрона."
   ]
  },
  {
   "cell_type": "markdown",
   "id": "domestic-runner",
   "metadata": {},
   "source": [
    "**Задание нейронной сети в PyTorch**"
   ]
  },
  {
   "cell_type": "code",
   "execution_count": 18,
   "id": "initial-sucking",
   "metadata": {},
   "outputs": [],
   "source": [
    "class Perceptron(torch.nn.Module):\n",
    "    def __init__(self, input_dim=784, num_layers=0,\n",
    "                 hidden_dim=64, output_dim=10, p=0.0, device='cpu'):\n",
    "        # device - устройство, на котором будут производиться вычисления\n",
    "        \n",
    "        super(Perceptron, self).__init__()\n",
    "        \n",
    "        self.layers = torch.nn.Sequential()\n",
    "        \n",
    "        prev_size = input_dim\n",
    "        for i in range(num_layers):\n",
    "            # Линейный модуль - добавление одного слоя полносвязной\n",
    "            # нейронной сети - реадизация скалярного произведения Wx\n",
    "            self.layers.add_module('layer{}'.format(i+1),\n",
    "                                   torch.nn.Linear(prev_size, hidden_dim))\n",
    "            # torch.nn.Linear(prev_size, hidden_dim),\n",
    "            # prev_size - кол-во нейронов на предыдущем слое (на входе)\n",
    "            # hidden_dim - кол-во нейронов на следующем слое (на выходе)\n",
    "            \n",
    "            # Нелинейный модуль - сигма-функция (в нашем случае ReLU)\n",
    "            self.layers.add_module('relu{}'.format(i+1), torch.nn.ReLU())\n",
    "            \n",
    "            # Удаление нейрона с вероятностью p (Реализация Drop Out):\n",
    "            self.layers.add_module('dropout{}'.format(i+1), torch.nn.Dropout(p=p))\n",
    "            \n",
    "            # Отслеживание согласовонности размерностей выходов и входов\n",
    "            # смежных слоев:\n",
    "            prev_size = hidden_dim\n",
    "            \n",
    "        # Последний линейный слой\n",
    "        self.layers.add_module('classifier',\n",
    "                                torch.nn.Linear(prev_size, output_dim))\n",
    "        self.to(device)\n",
    "        \n",
    "        \n",
    "    def forward(self, input):\n",
    "        return self.layers(input)"
   ]
  },
  {
   "cell_type": "code",
   "execution_count": 19,
   "id": "dimensional-poison",
   "metadata": {},
   "outputs": [
    {
     "data": {
      "text/plain": [
       "device(type='cpu')"
      ]
     },
     "execution_count": 19,
     "metadata": {},
     "output_type": "execute_result"
    }
   ],
   "source": [
    "# Если есть GPU, то подсчеты будт производиться на GPU, в ином слуаче\n",
    "# расчеты будут производиться на CPU.\n",
    "\n",
    "# Использование GPU для нейронных сетей является наиболее предпочтительным\n",
    "# ввиду того, что матричные вычисления на видеокарте работают намного быстрее,\n",
    "# нежели на процессоре.\n",
    "\n",
    "# У меня почему-то GPU не доступна.\n",
    "\n",
    "device = torch.device('cuda' if torch.cuda.is_available() else 'cpu')\n",
    "device"
   ]
  },
  {
   "cell_type": "markdown",
   "id": "selective-accused",
   "metadata": {},
   "source": [
    "Что из себя представляет модель Perceptron:"
   ]
  },
  {
   "cell_type": "code",
   "execution_count": 20,
   "id": "macro-software",
   "metadata": {},
   "outputs": [
    {
     "data": {
      "text/plain": [
       "Perceptron(\n",
       "  (layers): Sequential(\n",
       "    (classifier): Linear(in_features=784, out_features=10, bias=True)\n",
       "  )\n",
       ")"
      ]
     },
     "execution_count": 20,
     "metadata": {},
     "output_type": "execute_result"
    }
   ],
   "source": [
    "model = Perceptron(device=device)\n",
    "model"
   ]
  },
  {
   "cell_type": "markdown",
   "id": "civil-navigation",
   "metadata": {},
   "source": [
    "В слоях содержится только один линейный слой"
   ]
  },
  {
   "cell_type": "code",
   "execution_count": 21,
   "id": "built-timeline",
   "metadata": {},
   "outputs": [
    {
     "data": {
      "text/plain": [
       "Perceptron(\n",
       "  (layers): Sequential(\n",
       "    (layer1): Linear(in_features=784, out_features=64, bias=True)\n",
       "    (relu1): ReLU()\n",
       "    (dropout1): Dropout(p=0.0, inplace=False)\n",
       "    (classifier): Linear(in_features=64, out_features=10, bias=True)\n",
       "  )\n",
       ")"
      ]
     },
     "execution_count": 21,
     "metadata": {},
     "output_type": "execute_result"
    }
   ],
   "source": [
    "model = Perceptron(num_layers=1, device=device)\n",
    "model"
   ]
  },
  {
   "cell_type": "markdown",
   "id": "spanish-baker",
   "metadata": {},
   "source": [
    "Слой 1: Линейный слой $\\to$ ReLU $\\to$ DropOut с вер-стью 0 $\\to$ Линейный слой"
   ]
  },
  {
   "cell_type": "markdown",
   "id": "optical-bowling",
   "metadata": {},
   "source": [
    "В линейных слоях есть параметр `bias=True`. Данный параметр отвечает за добавление единицы к признакам объекта. То есть если `bias=True`, то сами признаки подаются на вход сети без преобразования (без добалвения к ним $1$), PyTorch будет делать это самостоятельно внутри сети."
   ]
  },
  {
   "cell_type": "code",
   "execution_count": 22,
   "id": "ongoing-accountability",
   "metadata": {},
   "outputs": [
    {
     "data": {
      "text/plain": [
       "Perceptron(\n",
       "  (layers): Sequential(\n",
       "    (layer1): Linear(in_features=784, out_features=64, bias=True)\n",
       "    (relu1): ReLU()\n",
       "    (dropout1): Dropout(p=0.0, inplace=False)\n",
       "    (layer2): Linear(in_features=64, out_features=64, bias=True)\n",
       "    (relu2): ReLU()\n",
       "    (dropout2): Dropout(p=0.0, inplace=False)\n",
       "    (classifier): Linear(in_features=64, out_features=10, bias=True)\n",
       "  )\n",
       ")"
      ]
     },
     "execution_count": 22,
     "metadata": {},
     "output_type": "execute_result"
    }
   ],
   "source": [
    "model = Perceptron(num_layers=2, device=device)\n",
    "model"
   ]
  },
  {
   "cell_type": "markdown",
   "id": "automotive-still",
   "metadata": {},
   "source": [
    "В данном случае скрытых слоев уже два. Также учтена согласованность входов и выходов между смежными слоями:  \n",
    "Скрытый: `in_features=784, out_features=64`  \n",
    "Скрытый: `in_features=64, out_features=64`  \n",
    "Выходной: `in_features=64, out_features=10`"
   ]
  },
  {
   "cell_type": "markdown",
   "id": "distinguished-alpha",
   "metadata": {},
   "source": [
    "Заметим, что все слои глубокой нейронной сети до выходного представляют собой Feature Engineering. Сам классификатор представляется последним слоем."
   ]
  },
  {
   "cell_type": "code",
   "execution_count": 25,
   "id": "plastic-publicity",
   "metadata": {},
   "outputs": [],
   "source": [
    "def testing(model, dataset):\n",
    "    generator = torch.utils.data.DataLoader(dataset, batch_size=64)\n",
    "    # batch_size=64 отвечает за количество объектов, читаемых в одном пакете\n",
    "    # То есть все объекты (в выборке порядка 60 000 объектов) будут браться\n",
    "    # поочередно пакетами по 64 объекта, чтобы не перегружать память.\n",
    "    \n",
    "    pred = []\n",
    "    real = []\n",
    "    for x,y in tqdm(generator, leave=False):\n",
    "        x = x.view([-1, 784]).to(device)\n",
    "        # x.view([-1, 784]) преобразовывает матрицу 28х28 в вектор 1х784\n",
    "        # .to(device) - отправка на устройство, где будут расчеты\n",
    "        y = y.to(device)\n",
    "        \n",
    "        pred.extend(torch.argmax(model(x), dim=-1).cpu().numpy().tolist())\n",
    "        real.extend(y.cpu().numpy().tolist())\n",
    "        # если подсчет torch.argmax(model(x), dim=-1) производится на GPU,\n",
    "        # то и все промежуточные результаты будут храниться в видеопамяти.\n",
    "        # Для сохранения результатов в оперативную память, необходимо\n",
    "        # перегонять все на процессор применяя .cpu().\n",
    "        # .numpy().tolist() применяется просто для преобразования в удобный \n",
    "        # формат.\n",
    "        \n",
    "    return np.mean(np.array(real) == np.array(pred)), \\\n",
    "           classification_report(real, pred)"
   ]
  },
  {
   "cell_type": "markdown",
   "id": "unlikely-indiana",
   "metadata": {},
   "source": [
    "В данном коде есть минус. Backward работает быстро за счет того, что он помнит все, что считал по дороге. На момент тестирования градиент нам не понадобится, но в данном случае Torch сохранит все промежуточные состояния. Это можно исправить, добавив специальную команду (будет далее)."
   ]
  },
  {
   "cell_type": "code",
   "execution_count": 26,
   "id": "moving-robin",
   "metadata": {},
   "outputs": [],
   "source": [
    "def trainer(model, dataset, loss_function, optimizer, epochs):\n",
    "    # optimizer - RMSProp, Ada, SGD и т.д.\n",
    "    for epoch in tqdm(range(epochs), leave=False):\n",
    "        generator = torch.utils.data.DataLoader(dataset, batch_size=64,\n",
    "                                                shuffle=True)\n",
    "        for x,y in tqdm(generator, leave=False):\n",
    "            optimizer.zero_grad()\n",
    "            x = x.view([-1, 784]).to(device)\n",
    "            # x.view([-1, 784]) - преобразование матрицы в вектор\n",
    "            # .to(device) - отправка на устройство, где будут расчеты\n",
    "            y = y.to(device)\n",
    "            \n",
    "            output = model(x)  # Находим Y без soft max\n",
    "            loss = loss_function(output, y)\n",
    "            # output - все, что до soft max\n",
    "            # y - истинные метки\n",
    "            # Обратное распространение ошибки:\n",
    "            loss.backward()\n",
    "            optimizer.step()"
   ]
  },
  {
   "cell_type": "code",
   "execution_count": 27,
   "id": "established-cornwall",
   "metadata": {},
   "outputs": [],
   "source": [
    "# Вспомогательная функция для отрисовки (неважно)\n",
    "def draw_table(data, title=['ACCURACY'], width=[60, 15]):    \n",
    "    row_format = '|' + '|'.join([(\"{:>\"+str(w)+\"}\") for w in width]) + '|'\n",
    "    row_format_bet = '+' + '+'.join([(\"{:>\"+str(w)+\"}\") for w in width]) + '+'\n",
    "    \n",
    "    print(row_format_bet.format(\n",
    "        \"-\"*width[0], *[\"-\"*width[i+1] for i, _ in enumerate(title)]))\n",
    "    print(row_format.format(\"\", *title))\n",
    "    print(row_format_bet.format(\n",
    "        \"-\"*width[0], *[\"-\"*width[i+1] for i, _ in enumerate(title)]))\n",
    "    for key in data:\n",
    "        if len(key) > width[0]:\n",
    "            row_name = '...' + key[len(key)-width[0]+3:]\n",
    "        else:\n",
    "            row_name = key\n",
    "        print(row_format.format(row_name, *[round(x, 2) for x in data[key]]))\n",
    "        print(row_format_bet.format(\n",
    "            \"-\"*width[0], *[\"-\"*width[i+1] for i, _ in enumerate(title)]))"
   ]
  },
  {
   "cell_type": "markdown",
   "id": "completed-catholic",
   "metadata": {},
   "source": [
    "**3. Обучение модели**"
   ]
  },
  {
   "cell_type": "markdown",
   "id": "postal-mainstream",
   "metadata": {},
   "source": [
    "**Линейная модель**"
   ]
  },
  {
   "cell_type": "code",
   "execution_count": 28,
   "id": "hollywood-component",
   "metadata": {},
   "outputs": [],
   "source": [
    "model = Perceptron(num_layers=0, device=device)"
   ]
  },
  {
   "cell_type": "markdown",
   "id": "outside-spotlight",
   "metadata": {},
   "source": [
    "Результаты до обучения:"
   ]
  },
  {
   "cell_type": "code",
   "execution_count": 30,
   "id": "designing-maker",
   "metadata": {},
   "outputs": [
    {
     "data": {
      "application/vnd.jupyter.widget-view+json": {
       "model_id": "",
       "version_major": 2,
       "version_minor": 0
      },
      "text/plain": [
       "  0%|          | 0/157 [00:00<?, ?it/s]"
      ]
     },
     "metadata": {},
     "output_type": "display_data"
    },
    {
     "name": "stdout",
     "output_type": "stream",
     "text": [
      "              precision    recall  f1-score   support\n",
      "\n",
      "           0       0.26      0.34      0.30       980\n",
      "           1       0.18      0.28      0.22      1135\n",
      "           2       0.23      0.02      0.04      1032\n",
      "           3       0.02      0.00      0.01      1010\n",
      "           4       0.01      0.00      0.00       982\n",
      "           5       0.14      0.36      0.20       892\n",
      "           6       0.04      0.04      0.04       958\n",
      "           7       0.20      0.45      0.27      1028\n",
      "           8       0.06      0.05      0.05       974\n",
      "           9       0.08      0.03      0.05      1009\n",
      "\n",
      "    accuracy                           0.16     10000\n",
      "   macro avg       0.12      0.16      0.12     10000\n",
      "weighted avg       0.12      0.16      0.12     10000\n",
      "\n"
     ]
    }
   ],
   "source": [
    "_ = model.eval()\n",
    "acc, report = testing(model, MNIST_test)\n",
    "print(report)"
   ]
  },
  {
   "cell_type": "markdown",
   "id": "checked-commercial",
   "metadata": {},
   "source": [
    "При использовании нейронной сети есть два режима.  \n",
    "Переход в режим `model.eval()` перед тестированием необходим для учета поправочных коэффициентов после реализации Drop Out. Соответсвенно перед обучением необходимо переходить в режим `model.train()`."
   ]
  },
  {
   "cell_type": "code",
   "execution_count": 31,
   "id": "handled-worst",
   "metadata": {},
   "outputs": [
    {
     "data": {
      "application/vnd.jupyter.widget-view+json": {
       "model_id": "",
       "version_major": 2,
       "version_minor": 0
      },
      "text/plain": [
       "  0%|          | 0/4 [00:00<?, ?it/s]"
      ]
     },
     "metadata": {},
     "output_type": "display_data"
    },
    {
     "data": {
      "application/vnd.jupyter.widget-view+json": {
       "model_id": "",
       "version_major": 2,
       "version_minor": 0
      },
      "text/plain": [
       "  0%|          | 0/938 [00:00<?, ?it/s]"
      ]
     },
     "metadata": {},
     "output_type": "display_data"
    },
    {
     "data": {
      "application/vnd.jupyter.widget-view+json": {
       "model_id": "",
       "version_major": 2,
       "version_minor": 0
      },
      "text/plain": [
       "  0%|          | 0/938 [00:00<?, ?it/s]"
      ]
     },
     "metadata": {},
     "output_type": "display_data"
    },
    {
     "data": {
      "application/vnd.jupyter.widget-view+json": {
       "model_id": "",
       "version_major": 2,
       "version_minor": 0
      },
      "text/plain": [
       "  0%|          | 0/938 [00:00<?, ?it/s]"
      ]
     },
     "metadata": {},
     "output_type": "display_data"
    },
    {
     "data": {
      "application/vnd.jupyter.widget-view+json": {
       "model_id": "",
       "version_major": 2,
       "version_minor": 0
      },
      "text/plain": [
       "  0%|          | 0/938 [00:00<?, ?it/s]"
      ]
     },
     "metadata": {},
     "output_type": "display_data"
    }
   ],
   "source": [
    "_ = model.train()\n",
    "trainer(model=model,\n",
    "        dataset=MNIST_train,\n",
    "        loss_function=torch.nn.CrossEntropyLoss(),\n",
    "        optimizer=torch.optim.Adam(model.parameters(), lr=0.001),\n",
    "       epochs=4)"
   ]
  },
  {
   "cell_type": "code",
   "execution_count": 32,
   "id": "crazy-insider",
   "metadata": {},
   "outputs": [
    {
     "data": {
      "application/vnd.jupyter.widget-view+json": {
       "model_id": "",
       "version_major": 2,
       "version_minor": 0
      },
      "text/plain": [
       "  0%|          | 0/157 [00:00<?, ?it/s]"
      ]
     },
     "metadata": {},
     "output_type": "display_data"
    },
    {
     "name": "stdout",
     "output_type": "stream",
     "text": [
      "              precision    recall  f1-score   support\n",
      "\n",
      "           0       0.94      0.98      0.96       980\n",
      "           1       0.97      0.98      0.97      1135\n",
      "           2       0.94      0.88      0.91      1032\n",
      "           3       0.90      0.92      0.91      1010\n",
      "           4       0.92      0.94      0.93       982\n",
      "           5       0.91      0.86      0.88       892\n",
      "           6       0.93      0.95      0.94       958\n",
      "           7       0.93      0.93      0.93      1028\n",
      "           8       0.87      0.89      0.88       974\n",
      "           9       0.91      0.90      0.90      1009\n",
      "\n",
      "    accuracy                           0.92     10000\n",
      "   macro avg       0.92      0.92      0.92     10000\n",
      "weighted avg       0.92      0.92      0.92     10000\n",
      "\n"
     ]
    }
   ],
   "source": [
    "_ = model.eval()\n",
    "acc, report = testing(model, MNIST_test)\n",
    "print(report)"
   ]
  },
  {
   "cell_type": "markdown",
   "id": "amateur-presentation",
   "metadata": {},
   "source": [
    "Качество линейной модели - $92\\%$."
   ]
  },
  {
   "cell_type": "markdown",
   "id": "solid-kitchen",
   "metadata": {},
   "source": [
    "**Подбор гиперпараметров**"
   ]
  },
  {
   "cell_type": "markdown",
   "id": "received-trinity",
   "metadata": {},
   "source": [
    "Гиперпараметры, которые нужно подобрать:  \n",
    "* `num_layers` (число слоев);\n",
    "* `hidden_dim` (размерность скрытых слоев);\n",
    "* `lr` (learning rate);\n",
    "* `p` (вероятность дропаута).  \n",
    "\n",
    "Для их подбора воспользуемся кросс-валидацией"
   ]
  },
  {
   "cell_type": "code",
   "execution_count": 33,
   "id": "informed-departure",
   "metadata": {},
   "outputs": [],
   "source": [
    "cross_val = KFold(3)\n",
    "number_of_batch = cross_val.get_n_splits(MNIST_train)\n",
    "\n",
    "grid = ParameterGrid({'num_layers': [0, 2],\n",
    "                     'hidden_dim': [8, 64],\n",
    "                     'p': [0.3, 0.7],\n",
    "                     'lr': [0.001]})\n",
    "\n",
    "# Ключ в словаре внутри grid - какой параметр необходимо оптимизировать;\n",
    "# Значение - список возможных значений.\n",
    "# Сам grid будет представлять собой генератор, выдающий все возможные\n",
    "# комбинации параметров.\n",
    "\n",
    "# Костыль для работы тензеров и sklearn\n",
    "X_train = MNIST_train.transform(MNIST_train.data.numpy()).transpose(0, 1)\n",
    "Y_train = MNIST_train.targets.data\n",
    "# MNIST_train.transform - превращение PIL Image в тензор + нормализация\n",
    "# (числа от 0 до 1)."
   ]
  },
  {
   "cell_type": "code",
   "execution_count": 34,
   "id": "still-basics",
   "metadata": {},
   "outputs": [
    {
     "data": {
      "application/vnd.jupyter.widget-view+json": {
       "model_id": "ad869938f2814635be7356f8768d5951",
       "version_major": 2,
       "version_minor": 0
      },
      "text/plain": [
       "  0%|          | 0/8 [00:00<?, ?it/s]"
      ]
     },
     "metadata": {},
     "output_type": "display_data"
    },
    {
     "data": {
      "application/vnd.jupyter.widget-view+json": {
       "model_id": "",
       "version_major": 2,
       "version_minor": 0
      },
      "text/plain": [
       "  0%|          | 0/3 [00:00<?, ?it/s]"
      ]
     },
     "metadata": {},
     "output_type": "display_data"
    },
    {
     "data": {
      "application/vnd.jupyter.widget-view+json": {
       "model_id": "",
       "version_major": 2,
       "version_minor": 0
      },
      "text/plain": [
       "  0%|          | 0/4 [00:00<?, ?it/s]"
      ]
     },
     "metadata": {},
     "output_type": "display_data"
    },
    {
     "data": {
      "application/vnd.jupyter.widget-view+json": {
       "model_id": "",
       "version_major": 2,
       "version_minor": 0
      },
      "text/plain": [
       "  0%|          | 0/625 [00:00<?, ?it/s]"
      ]
     },
     "metadata": {},
     "output_type": "display_data"
    },
    {
     "data": {
      "application/vnd.jupyter.widget-view+json": {
       "model_id": "",
       "version_major": 2,
       "version_minor": 0
      },
      "text/plain": [
       "  0%|          | 0/625 [00:00<?, ?it/s]"
      ]
     },
     "metadata": {},
     "output_type": "display_data"
    },
    {
     "data": {
      "application/vnd.jupyter.widget-view+json": {
       "model_id": "",
       "version_major": 2,
       "version_minor": 0
      },
      "text/plain": [
       "  0%|          | 0/625 [00:00<?, ?it/s]"
      ]
     },
     "metadata": {},
     "output_type": "display_data"
    },
    {
     "data": {
      "application/vnd.jupyter.widget-view+json": {
       "model_id": "",
       "version_major": 2,
       "version_minor": 0
      },
      "text/plain": [
       "  0%|          | 0/625 [00:00<?, ?it/s]"
      ]
     },
     "metadata": {},
     "output_type": "display_data"
    },
    {
     "data": {
      "application/vnd.jupyter.widget-view+json": {
       "model_id": "",
       "version_major": 2,
       "version_minor": 0
      },
      "text/plain": [
       "  0%|          | 0/313 [00:00<?, ?it/s]"
      ]
     },
     "metadata": {},
     "output_type": "display_data"
    },
    {
     "data": {
      "application/vnd.jupyter.widget-view+json": {
       "model_id": "",
       "version_major": 2,
       "version_minor": 0
      },
      "text/plain": [
       "  0%|          | 0/4 [00:00<?, ?it/s]"
      ]
     },
     "metadata": {},
     "output_type": "display_data"
    },
    {
     "data": {
      "application/vnd.jupyter.widget-view+json": {
       "model_id": "",
       "version_major": 2,
       "version_minor": 0
      },
      "text/plain": [
       "  0%|          | 0/625 [00:00<?, ?it/s]"
      ]
     },
     "metadata": {},
     "output_type": "display_data"
    },
    {
     "data": {
      "application/vnd.jupyter.widget-view+json": {
       "model_id": "",
       "version_major": 2,
       "version_minor": 0
      },
      "text/plain": [
       "  0%|          | 0/625 [00:00<?, ?it/s]"
      ]
     },
     "metadata": {},
     "output_type": "display_data"
    },
    {
     "data": {
      "application/vnd.jupyter.widget-view+json": {
       "model_id": "",
       "version_major": 2,
       "version_minor": 0
      },
      "text/plain": [
       "  0%|          | 0/625 [00:00<?, ?it/s]"
      ]
     },
     "metadata": {},
     "output_type": "display_data"
    },
    {
     "data": {
      "application/vnd.jupyter.widget-view+json": {
       "model_id": "",
       "version_major": 2,
       "version_minor": 0
      },
      "text/plain": [
       "  0%|          | 0/625 [00:00<?, ?it/s]"
      ]
     },
     "metadata": {},
     "output_type": "display_data"
    },
    {
     "data": {
      "application/vnd.jupyter.widget-view+json": {
       "model_id": "",
       "version_major": 2,
       "version_minor": 0
      },
      "text/plain": [
       "  0%|          | 0/313 [00:00<?, ?it/s]"
      ]
     },
     "metadata": {},
     "output_type": "display_data"
    },
    {
     "data": {
      "application/vnd.jupyter.widget-view+json": {
       "model_id": "",
       "version_major": 2,
       "version_minor": 0
      },
      "text/plain": [
       "  0%|          | 0/4 [00:00<?, ?it/s]"
      ]
     },
     "metadata": {},
     "output_type": "display_data"
    },
    {
     "data": {
      "application/vnd.jupyter.widget-view+json": {
       "model_id": "",
       "version_major": 2,
       "version_minor": 0
      },
      "text/plain": [
       "  0%|          | 0/625 [00:00<?, ?it/s]"
      ]
     },
     "metadata": {},
     "output_type": "display_data"
    },
    {
     "data": {
      "application/vnd.jupyter.widget-view+json": {
       "model_id": "",
       "version_major": 2,
       "version_minor": 0
      },
      "text/plain": [
       "  0%|          | 0/625 [00:00<?, ?it/s]"
      ]
     },
     "metadata": {},
     "output_type": "display_data"
    },
    {
     "data": {
      "application/vnd.jupyter.widget-view+json": {
       "model_id": "",
       "version_major": 2,
       "version_minor": 0
      },
      "text/plain": [
       "  0%|          | 0/625 [00:00<?, ?it/s]"
      ]
     },
     "metadata": {},
     "output_type": "display_data"
    },
    {
     "data": {
      "application/vnd.jupyter.widget-view+json": {
       "model_id": "",
       "version_major": 2,
       "version_minor": 0
      },
      "text/plain": [
       "  0%|          | 0/625 [00:00<?, ?it/s]"
      ]
     },
     "metadata": {},
     "output_type": "display_data"
    },
    {
     "data": {
      "application/vnd.jupyter.widget-view+json": {
       "model_id": "",
       "version_major": 2,
       "version_minor": 0
      },
      "text/plain": [
       "  0%|          | 0/313 [00:00<?, ?it/s]"
      ]
     },
     "metadata": {},
     "output_type": "display_data"
    },
    {
     "data": {
      "application/vnd.jupyter.widget-view+json": {
       "model_id": "",
       "version_major": 2,
       "version_minor": 0
      },
      "text/plain": [
       "  0%|          | 0/3 [00:00<?, ?it/s]"
      ]
     },
     "metadata": {},
     "output_type": "display_data"
    },
    {
     "data": {
      "application/vnd.jupyter.widget-view+json": {
       "model_id": "",
       "version_major": 2,
       "version_minor": 0
      },
      "text/plain": [
       "  0%|          | 0/4 [00:00<?, ?it/s]"
      ]
     },
     "metadata": {},
     "output_type": "display_data"
    },
    {
     "data": {
      "application/vnd.jupyter.widget-view+json": {
       "model_id": "",
       "version_major": 2,
       "version_minor": 0
      },
      "text/plain": [
       "  0%|          | 0/625 [00:00<?, ?it/s]"
      ]
     },
     "metadata": {},
     "output_type": "display_data"
    },
    {
     "data": {
      "application/vnd.jupyter.widget-view+json": {
       "model_id": "",
       "version_major": 2,
       "version_minor": 0
      },
      "text/plain": [
       "  0%|          | 0/625 [00:00<?, ?it/s]"
      ]
     },
     "metadata": {},
     "output_type": "display_data"
    },
    {
     "data": {
      "application/vnd.jupyter.widget-view+json": {
       "model_id": "",
       "version_major": 2,
       "version_minor": 0
      },
      "text/plain": [
       "  0%|          | 0/625 [00:00<?, ?it/s]"
      ]
     },
     "metadata": {},
     "output_type": "display_data"
    },
    {
     "data": {
      "application/vnd.jupyter.widget-view+json": {
       "model_id": "",
       "version_major": 2,
       "version_minor": 0
      },
      "text/plain": [
       "  0%|          | 0/625 [00:00<?, ?it/s]"
      ]
     },
     "metadata": {},
     "output_type": "display_data"
    },
    {
     "data": {
      "application/vnd.jupyter.widget-view+json": {
       "model_id": "",
       "version_major": 2,
       "version_minor": 0
      },
      "text/plain": [
       "  0%|          | 0/313 [00:00<?, ?it/s]"
      ]
     },
     "metadata": {},
     "output_type": "display_data"
    },
    {
     "data": {
      "application/vnd.jupyter.widget-view+json": {
       "model_id": "",
       "version_major": 2,
       "version_minor": 0
      },
      "text/plain": [
       "  0%|          | 0/4 [00:00<?, ?it/s]"
      ]
     },
     "metadata": {},
     "output_type": "display_data"
    },
    {
     "data": {
      "application/vnd.jupyter.widget-view+json": {
       "model_id": "",
       "version_major": 2,
       "version_minor": 0
      },
      "text/plain": [
       "  0%|          | 0/625 [00:00<?, ?it/s]"
      ]
     },
     "metadata": {},
     "output_type": "display_data"
    },
    {
     "data": {
      "application/vnd.jupyter.widget-view+json": {
       "model_id": "",
       "version_major": 2,
       "version_minor": 0
      },
      "text/plain": [
       "  0%|          | 0/625 [00:00<?, ?it/s]"
      ]
     },
     "metadata": {},
     "output_type": "display_data"
    },
    {
     "data": {
      "application/vnd.jupyter.widget-view+json": {
       "model_id": "",
       "version_major": 2,
       "version_minor": 0
      },
      "text/plain": [
       "  0%|          | 0/625 [00:00<?, ?it/s]"
      ]
     },
     "metadata": {},
     "output_type": "display_data"
    },
    {
     "data": {
      "application/vnd.jupyter.widget-view+json": {
       "model_id": "",
       "version_major": 2,
       "version_minor": 0
      },
      "text/plain": [
       "  0%|          | 0/625 [00:00<?, ?it/s]"
      ]
     },
     "metadata": {},
     "output_type": "display_data"
    },
    {
     "data": {
      "application/vnd.jupyter.widget-view+json": {
       "model_id": "",
       "version_major": 2,
       "version_minor": 0
      },
      "text/plain": [
       "  0%|          | 0/313 [00:00<?, ?it/s]"
      ]
     },
     "metadata": {},
     "output_type": "display_data"
    },
    {
     "data": {
      "application/vnd.jupyter.widget-view+json": {
       "model_id": "",
       "version_major": 2,
       "version_minor": 0
      },
      "text/plain": [
       "  0%|          | 0/4 [00:00<?, ?it/s]"
      ]
     },
     "metadata": {},
     "output_type": "display_data"
    },
    {
     "data": {
      "application/vnd.jupyter.widget-view+json": {
       "model_id": "",
       "version_major": 2,
       "version_minor": 0
      },
      "text/plain": [
       "  0%|          | 0/625 [00:00<?, ?it/s]"
      ]
     },
     "metadata": {},
     "output_type": "display_data"
    },
    {
     "data": {
      "application/vnd.jupyter.widget-view+json": {
       "model_id": "",
       "version_major": 2,
       "version_minor": 0
      },
      "text/plain": [
       "  0%|          | 0/625 [00:00<?, ?it/s]"
      ]
     },
     "metadata": {},
     "output_type": "display_data"
    },
    {
     "data": {
      "application/vnd.jupyter.widget-view+json": {
       "model_id": "",
       "version_major": 2,
       "version_minor": 0
      },
      "text/plain": [
       "  0%|          | 0/625 [00:00<?, ?it/s]"
      ]
     },
     "metadata": {},
     "output_type": "display_data"
    },
    {
     "data": {
      "application/vnd.jupyter.widget-view+json": {
       "model_id": "",
       "version_major": 2,
       "version_minor": 0
      },
      "text/plain": [
       "  0%|          | 0/625 [00:00<?, ?it/s]"
      ]
     },
     "metadata": {},
     "output_type": "display_data"
    },
    {
     "data": {
      "application/vnd.jupyter.widget-view+json": {
       "model_id": "",
       "version_major": 2,
       "version_minor": 0
      },
      "text/plain": [
       "  0%|          | 0/313 [00:00<?, ?it/s]"
      ]
     },
     "metadata": {},
     "output_type": "display_data"
    },
    {
     "data": {
      "application/vnd.jupyter.widget-view+json": {
       "model_id": "",
       "version_major": 2,
       "version_minor": 0
      },
      "text/plain": [
       "  0%|          | 0/3 [00:00<?, ?it/s]"
      ]
     },
     "metadata": {},
     "output_type": "display_data"
    },
    {
     "data": {
      "application/vnd.jupyter.widget-view+json": {
       "model_id": "",
       "version_major": 2,
       "version_minor": 0
      },
      "text/plain": [
       "  0%|          | 0/4 [00:00<?, ?it/s]"
      ]
     },
     "metadata": {},
     "output_type": "display_data"
    },
    {
     "data": {
      "application/vnd.jupyter.widget-view+json": {
       "model_id": "",
       "version_major": 2,
       "version_minor": 0
      },
      "text/plain": [
       "  0%|          | 0/625 [00:00<?, ?it/s]"
      ]
     },
     "metadata": {},
     "output_type": "display_data"
    },
    {
     "data": {
      "application/vnd.jupyter.widget-view+json": {
       "model_id": "",
       "version_major": 2,
       "version_minor": 0
      },
      "text/plain": [
       "  0%|          | 0/625 [00:00<?, ?it/s]"
      ]
     },
     "metadata": {},
     "output_type": "display_data"
    },
    {
     "data": {
      "application/vnd.jupyter.widget-view+json": {
       "model_id": "",
       "version_major": 2,
       "version_minor": 0
      },
      "text/plain": [
       "  0%|          | 0/625 [00:00<?, ?it/s]"
      ]
     },
     "metadata": {},
     "output_type": "display_data"
    },
    {
     "data": {
      "application/vnd.jupyter.widget-view+json": {
       "model_id": "",
       "version_major": 2,
       "version_minor": 0
      },
      "text/plain": [
       "  0%|          | 0/625 [00:00<?, ?it/s]"
      ]
     },
     "metadata": {},
     "output_type": "display_data"
    },
    {
     "data": {
      "application/vnd.jupyter.widget-view+json": {
       "model_id": "",
       "version_major": 2,
       "version_minor": 0
      },
      "text/plain": [
       "  0%|          | 0/313 [00:00<?, ?it/s]"
      ]
     },
     "metadata": {},
     "output_type": "display_data"
    },
    {
     "data": {
      "application/vnd.jupyter.widget-view+json": {
       "model_id": "",
       "version_major": 2,
       "version_minor": 0
      },
      "text/plain": [
       "  0%|          | 0/4 [00:00<?, ?it/s]"
      ]
     },
     "metadata": {},
     "output_type": "display_data"
    },
    {
     "data": {
      "application/vnd.jupyter.widget-view+json": {
       "model_id": "",
       "version_major": 2,
       "version_minor": 0
      },
      "text/plain": [
       "  0%|          | 0/625 [00:00<?, ?it/s]"
      ]
     },
     "metadata": {},
     "output_type": "display_data"
    },
    {
     "data": {
      "application/vnd.jupyter.widget-view+json": {
       "model_id": "",
       "version_major": 2,
       "version_minor": 0
      },
      "text/plain": [
       "  0%|          | 0/625 [00:00<?, ?it/s]"
      ]
     },
     "metadata": {},
     "output_type": "display_data"
    },
    {
     "data": {
      "application/vnd.jupyter.widget-view+json": {
       "model_id": "",
       "version_major": 2,
       "version_minor": 0
      },
      "text/plain": [
       "  0%|          | 0/625 [00:00<?, ?it/s]"
      ]
     },
     "metadata": {},
     "output_type": "display_data"
    },
    {
     "data": {
      "application/vnd.jupyter.widget-view+json": {
       "model_id": "",
       "version_major": 2,
       "version_minor": 0
      },
      "text/plain": [
       "  0%|          | 0/625 [00:00<?, ?it/s]"
      ]
     },
     "metadata": {},
     "output_type": "display_data"
    },
    {
     "data": {
      "application/vnd.jupyter.widget-view+json": {
       "model_id": "",
       "version_major": 2,
       "version_minor": 0
      },
      "text/plain": [
       "  0%|          | 0/313 [00:00<?, ?it/s]"
      ]
     },
     "metadata": {},
     "output_type": "display_data"
    },
    {
     "data": {
      "application/vnd.jupyter.widget-view+json": {
       "model_id": "",
       "version_major": 2,
       "version_minor": 0
      },
      "text/plain": [
       "  0%|          | 0/4 [00:00<?, ?it/s]"
      ]
     },
     "metadata": {},
     "output_type": "display_data"
    },
    {
     "data": {
      "application/vnd.jupyter.widget-view+json": {
       "model_id": "",
       "version_major": 2,
       "version_minor": 0
      },
      "text/plain": [
       "  0%|          | 0/625 [00:00<?, ?it/s]"
      ]
     },
     "metadata": {},
     "output_type": "display_data"
    },
    {
     "data": {
      "application/vnd.jupyter.widget-view+json": {
       "model_id": "",
       "version_major": 2,
       "version_minor": 0
      },
      "text/plain": [
       "  0%|          | 0/625 [00:00<?, ?it/s]"
      ]
     },
     "metadata": {},
     "output_type": "display_data"
    },
    {
     "data": {
      "application/vnd.jupyter.widget-view+json": {
       "model_id": "",
       "version_major": 2,
       "version_minor": 0
      },
      "text/plain": [
       "  0%|          | 0/625 [00:00<?, ?it/s]"
      ]
     },
     "metadata": {},
     "output_type": "display_data"
    },
    {
     "data": {
      "application/vnd.jupyter.widget-view+json": {
       "model_id": "",
       "version_major": 2,
       "version_minor": 0
      },
      "text/plain": [
       "  0%|          | 0/625 [00:00<?, ?it/s]"
      ]
     },
     "metadata": {},
     "output_type": "display_data"
    },
    {
     "data": {
      "application/vnd.jupyter.widget-view+json": {
       "model_id": "",
       "version_major": 2,
       "version_minor": 0
      },
      "text/plain": [
       "  0%|          | 0/313 [00:00<?, ?it/s]"
      ]
     },
     "metadata": {},
     "output_type": "display_data"
    },
    {
     "data": {
      "application/vnd.jupyter.widget-view+json": {
       "model_id": "",
       "version_major": 2,
       "version_minor": 0
      },
      "text/plain": [
       "  0%|          | 0/3 [00:00<?, ?it/s]"
      ]
     },
     "metadata": {},
     "output_type": "display_data"
    },
    {
     "data": {
      "application/vnd.jupyter.widget-view+json": {
       "model_id": "",
       "version_major": 2,
       "version_minor": 0
      },
      "text/plain": [
       "  0%|          | 0/4 [00:00<?, ?it/s]"
      ]
     },
     "metadata": {},
     "output_type": "display_data"
    },
    {
     "data": {
      "application/vnd.jupyter.widget-view+json": {
       "model_id": "",
       "version_major": 2,
       "version_minor": 0
      },
      "text/plain": [
       "  0%|          | 0/625 [00:00<?, ?it/s]"
      ]
     },
     "metadata": {},
     "output_type": "display_data"
    },
    {
     "data": {
      "application/vnd.jupyter.widget-view+json": {
       "model_id": "",
       "version_major": 2,
       "version_minor": 0
      },
      "text/plain": [
       "  0%|          | 0/625 [00:00<?, ?it/s]"
      ]
     },
     "metadata": {},
     "output_type": "display_data"
    },
    {
     "data": {
      "application/vnd.jupyter.widget-view+json": {
       "model_id": "",
       "version_major": 2,
       "version_minor": 0
      },
      "text/plain": [
       "  0%|          | 0/625 [00:00<?, ?it/s]"
      ]
     },
     "metadata": {},
     "output_type": "display_data"
    },
    {
     "data": {
      "application/vnd.jupyter.widget-view+json": {
       "model_id": "",
       "version_major": 2,
       "version_minor": 0
      },
      "text/plain": [
       "  0%|          | 0/625 [00:00<?, ?it/s]"
      ]
     },
     "metadata": {},
     "output_type": "display_data"
    },
    {
     "data": {
      "application/vnd.jupyter.widget-view+json": {
       "model_id": "",
       "version_major": 2,
       "version_minor": 0
      },
      "text/plain": [
       "  0%|          | 0/313 [00:00<?, ?it/s]"
      ]
     },
     "metadata": {},
     "output_type": "display_data"
    },
    {
     "name": "stderr",
     "output_type": "stream",
     "text": [
      "c:\\users\\ski6a\\appdata\\local\\programs\\python\\python37\\lib\\site-packages\\sklearn\\metrics\\_classification.py:1245: UndefinedMetricWarning: Precision and F-score are ill-defined and being set to 0.0 in labels with no predicted samples. Use `zero_division` parameter to control this behavior.\n",
      "  _warn_prf(average, modifier, msg_start, len(result))\n",
      "c:\\users\\ski6a\\appdata\\local\\programs\\python\\python37\\lib\\site-packages\\sklearn\\metrics\\_classification.py:1245: UndefinedMetricWarning: Precision and F-score are ill-defined and being set to 0.0 in labels with no predicted samples. Use `zero_division` parameter to control this behavior.\n",
      "  _warn_prf(average, modifier, msg_start, len(result))\n",
      "c:\\users\\ski6a\\appdata\\local\\programs\\python\\python37\\lib\\site-packages\\sklearn\\metrics\\_classification.py:1245: UndefinedMetricWarning: Precision and F-score are ill-defined and being set to 0.0 in labels with no predicted samples. Use `zero_division` parameter to control this behavior.\n",
      "  _warn_prf(average, modifier, msg_start, len(result))\n"
     ]
    },
    {
     "data": {
      "application/vnd.jupyter.widget-view+json": {
       "model_id": "",
       "version_major": 2,
       "version_minor": 0
      },
      "text/plain": [
       "  0%|          | 0/4 [00:00<?, ?it/s]"
      ]
     },
     "metadata": {},
     "output_type": "display_data"
    },
    {
     "data": {
      "application/vnd.jupyter.widget-view+json": {
       "model_id": "",
       "version_major": 2,
       "version_minor": 0
      },
      "text/plain": [
       "  0%|          | 0/625 [00:00<?, ?it/s]"
      ]
     },
     "metadata": {},
     "output_type": "display_data"
    },
    {
     "data": {
      "application/vnd.jupyter.widget-view+json": {
       "model_id": "",
       "version_major": 2,
       "version_minor": 0
      },
      "text/plain": [
       "  0%|          | 0/625 [00:00<?, ?it/s]"
      ]
     },
     "metadata": {},
     "output_type": "display_data"
    },
    {
     "data": {
      "application/vnd.jupyter.widget-view+json": {
       "model_id": "",
       "version_major": 2,
       "version_minor": 0
      },
      "text/plain": [
       "  0%|          | 0/625 [00:00<?, ?it/s]"
      ]
     },
     "metadata": {},
     "output_type": "display_data"
    },
    {
     "data": {
      "application/vnd.jupyter.widget-view+json": {
       "model_id": "",
       "version_major": 2,
       "version_minor": 0
      },
      "text/plain": [
       "  0%|          | 0/625 [00:00<?, ?it/s]"
      ]
     },
     "metadata": {},
     "output_type": "display_data"
    },
    {
     "data": {
      "application/vnd.jupyter.widget-view+json": {
       "model_id": "",
       "version_major": 2,
       "version_minor": 0
      },
      "text/plain": [
       "  0%|          | 0/313 [00:00<?, ?it/s]"
      ]
     },
     "metadata": {},
     "output_type": "display_data"
    },
    {
     "data": {
      "application/vnd.jupyter.widget-view+json": {
       "model_id": "",
       "version_major": 2,
       "version_minor": 0
      },
      "text/plain": [
       "  0%|          | 0/4 [00:00<?, ?it/s]"
      ]
     },
     "metadata": {},
     "output_type": "display_data"
    },
    {
     "data": {
      "application/vnd.jupyter.widget-view+json": {
       "model_id": "",
       "version_major": 2,
       "version_minor": 0
      },
      "text/plain": [
       "  0%|          | 0/625 [00:00<?, ?it/s]"
      ]
     },
     "metadata": {},
     "output_type": "display_data"
    },
    {
     "data": {
      "application/vnd.jupyter.widget-view+json": {
       "model_id": "",
       "version_major": 2,
       "version_minor": 0
      },
      "text/plain": [
       "  0%|          | 0/625 [00:00<?, ?it/s]"
      ]
     },
     "metadata": {},
     "output_type": "display_data"
    },
    {
     "data": {
      "application/vnd.jupyter.widget-view+json": {
       "model_id": "",
       "version_major": 2,
       "version_minor": 0
      },
      "text/plain": [
       "  0%|          | 0/625 [00:00<?, ?it/s]"
      ]
     },
     "metadata": {},
     "output_type": "display_data"
    },
    {
     "data": {
      "application/vnd.jupyter.widget-view+json": {
       "model_id": "",
       "version_major": 2,
       "version_minor": 0
      },
      "text/plain": [
       "  0%|          | 0/625 [00:00<?, ?it/s]"
      ]
     },
     "metadata": {},
     "output_type": "display_data"
    },
    {
     "data": {
      "application/vnd.jupyter.widget-view+json": {
       "model_id": "",
       "version_major": 2,
       "version_minor": 0
      },
      "text/plain": [
       "  0%|          | 0/313 [00:00<?, ?it/s]"
      ]
     },
     "metadata": {},
     "output_type": "display_data"
    },
    {
     "data": {
      "application/vnd.jupyter.widget-view+json": {
       "model_id": "",
       "version_major": 2,
       "version_minor": 0
      },
      "text/plain": [
       "  0%|          | 0/3 [00:00<?, ?it/s]"
      ]
     },
     "metadata": {},
     "output_type": "display_data"
    },
    {
     "data": {
      "application/vnd.jupyter.widget-view+json": {
       "model_id": "",
       "version_major": 2,
       "version_minor": 0
      },
      "text/plain": [
       "  0%|          | 0/4 [00:00<?, ?it/s]"
      ]
     },
     "metadata": {},
     "output_type": "display_data"
    },
    {
     "data": {
      "application/vnd.jupyter.widget-view+json": {
       "model_id": "",
       "version_major": 2,
       "version_minor": 0
      },
      "text/plain": [
       "  0%|          | 0/625 [00:00<?, ?it/s]"
      ]
     },
     "metadata": {},
     "output_type": "display_data"
    },
    {
     "data": {
      "application/vnd.jupyter.widget-view+json": {
       "model_id": "",
       "version_major": 2,
       "version_minor": 0
      },
      "text/plain": [
       "  0%|          | 0/625 [00:00<?, ?it/s]"
      ]
     },
     "metadata": {},
     "output_type": "display_data"
    },
    {
     "data": {
      "application/vnd.jupyter.widget-view+json": {
       "model_id": "",
       "version_major": 2,
       "version_minor": 0
      },
      "text/plain": [
       "  0%|          | 0/625 [00:00<?, ?it/s]"
      ]
     },
     "metadata": {},
     "output_type": "display_data"
    },
    {
     "data": {
      "application/vnd.jupyter.widget-view+json": {
       "model_id": "",
       "version_major": 2,
       "version_minor": 0
      },
      "text/plain": [
       "  0%|          | 0/625 [00:00<?, ?it/s]"
      ]
     },
     "metadata": {},
     "output_type": "display_data"
    },
    {
     "data": {
      "application/vnd.jupyter.widget-view+json": {
       "model_id": "",
       "version_major": 2,
       "version_minor": 0
      },
      "text/plain": [
       "  0%|          | 0/313 [00:00<?, ?it/s]"
      ]
     },
     "metadata": {},
     "output_type": "display_data"
    },
    {
     "data": {
      "application/vnd.jupyter.widget-view+json": {
       "model_id": "",
       "version_major": 2,
       "version_minor": 0
      },
      "text/plain": [
       "  0%|          | 0/4 [00:00<?, ?it/s]"
      ]
     },
     "metadata": {},
     "output_type": "display_data"
    },
    {
     "data": {
      "application/vnd.jupyter.widget-view+json": {
       "model_id": "",
       "version_major": 2,
       "version_minor": 0
      },
      "text/plain": [
       "  0%|          | 0/625 [00:00<?, ?it/s]"
      ]
     },
     "metadata": {},
     "output_type": "display_data"
    },
    {
     "data": {
      "application/vnd.jupyter.widget-view+json": {
       "model_id": "",
       "version_major": 2,
       "version_minor": 0
      },
      "text/plain": [
       "  0%|          | 0/625 [00:00<?, ?it/s]"
      ]
     },
     "metadata": {},
     "output_type": "display_data"
    },
    {
     "data": {
      "application/vnd.jupyter.widget-view+json": {
       "model_id": "",
       "version_major": 2,
       "version_minor": 0
      },
      "text/plain": [
       "  0%|          | 0/625 [00:00<?, ?it/s]"
      ]
     },
     "metadata": {},
     "output_type": "display_data"
    },
    {
     "data": {
      "application/vnd.jupyter.widget-view+json": {
       "model_id": "",
       "version_major": 2,
       "version_minor": 0
      },
      "text/plain": [
       "  0%|          | 0/625 [00:00<?, ?it/s]"
      ]
     },
     "metadata": {},
     "output_type": "display_data"
    },
    {
     "data": {
      "application/vnd.jupyter.widget-view+json": {
       "model_id": "",
       "version_major": 2,
       "version_minor": 0
      },
      "text/plain": [
       "  0%|          | 0/313 [00:00<?, ?it/s]"
      ]
     },
     "metadata": {},
     "output_type": "display_data"
    },
    {
     "data": {
      "application/vnd.jupyter.widget-view+json": {
       "model_id": "",
       "version_major": 2,
       "version_minor": 0
      },
      "text/plain": [
       "  0%|          | 0/4 [00:00<?, ?it/s]"
      ]
     },
     "metadata": {},
     "output_type": "display_data"
    },
    {
     "data": {
      "application/vnd.jupyter.widget-view+json": {
       "model_id": "",
       "version_major": 2,
       "version_minor": 0
      },
      "text/plain": [
       "  0%|          | 0/625 [00:00<?, ?it/s]"
      ]
     },
     "metadata": {},
     "output_type": "display_data"
    },
    {
     "data": {
      "application/vnd.jupyter.widget-view+json": {
       "model_id": "",
       "version_major": 2,
       "version_minor": 0
      },
      "text/plain": [
       "  0%|          | 0/625 [00:00<?, ?it/s]"
      ]
     },
     "metadata": {},
     "output_type": "display_data"
    },
    {
     "data": {
      "application/vnd.jupyter.widget-view+json": {
       "model_id": "",
       "version_major": 2,
       "version_minor": 0
      },
      "text/plain": [
       "  0%|          | 0/625 [00:00<?, ?it/s]"
      ]
     },
     "metadata": {},
     "output_type": "display_data"
    },
    {
     "data": {
      "application/vnd.jupyter.widget-view+json": {
       "model_id": "",
       "version_major": 2,
       "version_minor": 0
      },
      "text/plain": [
       "  0%|          | 0/625 [00:00<?, ?it/s]"
      ]
     },
     "metadata": {},
     "output_type": "display_data"
    },
    {
     "data": {
      "application/vnd.jupyter.widget-view+json": {
       "model_id": "",
       "version_major": 2,
       "version_minor": 0
      },
      "text/plain": [
       "  0%|          | 0/313 [00:00<?, ?it/s]"
      ]
     },
     "metadata": {},
     "output_type": "display_data"
    },
    {
     "data": {
      "application/vnd.jupyter.widget-view+json": {
       "model_id": "",
       "version_major": 2,
       "version_minor": 0
      },
      "text/plain": [
       "  0%|          | 0/3 [00:00<?, ?it/s]"
      ]
     },
     "metadata": {},
     "output_type": "display_data"
    },
    {
     "data": {
      "application/vnd.jupyter.widget-view+json": {
       "model_id": "",
       "version_major": 2,
       "version_minor": 0
      },
      "text/plain": [
       "  0%|          | 0/4 [00:00<?, ?it/s]"
      ]
     },
     "metadata": {},
     "output_type": "display_data"
    },
    {
     "data": {
      "application/vnd.jupyter.widget-view+json": {
       "model_id": "",
       "version_major": 2,
       "version_minor": 0
      },
      "text/plain": [
       "  0%|          | 0/625 [00:00<?, ?it/s]"
      ]
     },
     "metadata": {},
     "output_type": "display_data"
    },
    {
     "data": {
      "application/vnd.jupyter.widget-view+json": {
       "model_id": "",
       "version_major": 2,
       "version_minor": 0
      },
      "text/plain": [
       "  0%|          | 0/625 [00:00<?, ?it/s]"
      ]
     },
     "metadata": {},
     "output_type": "display_data"
    },
    {
     "data": {
      "application/vnd.jupyter.widget-view+json": {
       "model_id": "",
       "version_major": 2,
       "version_minor": 0
      },
      "text/plain": [
       "  0%|          | 0/625 [00:00<?, ?it/s]"
      ]
     },
     "metadata": {},
     "output_type": "display_data"
    },
    {
     "data": {
      "application/vnd.jupyter.widget-view+json": {
       "model_id": "",
       "version_major": 2,
       "version_minor": 0
      },
      "text/plain": [
       "  0%|          | 0/625 [00:00<?, ?it/s]"
      ]
     },
     "metadata": {},
     "output_type": "display_data"
    },
    {
     "data": {
      "application/vnd.jupyter.widget-view+json": {
       "model_id": "",
       "version_major": 2,
       "version_minor": 0
      },
      "text/plain": [
       "  0%|          | 0/313 [00:00<?, ?it/s]"
      ]
     },
     "metadata": {},
     "output_type": "display_data"
    },
    {
     "data": {
      "application/vnd.jupyter.widget-view+json": {
       "model_id": "",
       "version_major": 2,
       "version_minor": 0
      },
      "text/plain": [
       "  0%|          | 0/4 [00:00<?, ?it/s]"
      ]
     },
     "metadata": {},
     "output_type": "display_data"
    },
    {
     "data": {
      "application/vnd.jupyter.widget-view+json": {
       "model_id": "",
       "version_major": 2,
       "version_minor": 0
      },
      "text/plain": [
       "  0%|          | 0/625 [00:00<?, ?it/s]"
      ]
     },
     "metadata": {},
     "output_type": "display_data"
    },
    {
     "data": {
      "application/vnd.jupyter.widget-view+json": {
       "model_id": "",
       "version_major": 2,
       "version_minor": 0
      },
      "text/plain": [
       "  0%|          | 0/625 [00:00<?, ?it/s]"
      ]
     },
     "metadata": {},
     "output_type": "display_data"
    },
    {
     "data": {
      "application/vnd.jupyter.widget-view+json": {
       "model_id": "",
       "version_major": 2,
       "version_minor": 0
      },
      "text/plain": [
       "  0%|          | 0/625 [00:00<?, ?it/s]"
      ]
     },
     "metadata": {},
     "output_type": "display_data"
    },
    {
     "data": {
      "application/vnd.jupyter.widget-view+json": {
       "model_id": "",
       "version_major": 2,
       "version_minor": 0
      },
      "text/plain": [
       "  0%|          | 0/625 [00:00<?, ?it/s]"
      ]
     },
     "metadata": {},
     "output_type": "display_data"
    },
    {
     "data": {
      "application/vnd.jupyter.widget-view+json": {
       "model_id": "",
       "version_major": 2,
       "version_minor": 0
      },
      "text/plain": [
       "  0%|          | 0/313 [00:00<?, ?it/s]"
      ]
     },
     "metadata": {},
     "output_type": "display_data"
    },
    {
     "data": {
      "application/vnd.jupyter.widget-view+json": {
       "model_id": "",
       "version_major": 2,
       "version_minor": 0
      },
      "text/plain": [
       "  0%|          | 0/4 [00:00<?, ?it/s]"
      ]
     },
     "metadata": {},
     "output_type": "display_data"
    },
    {
     "data": {
      "application/vnd.jupyter.widget-view+json": {
       "model_id": "",
       "version_major": 2,
       "version_minor": 0
      },
      "text/plain": [
       "  0%|          | 0/625 [00:00<?, ?it/s]"
      ]
     },
     "metadata": {},
     "output_type": "display_data"
    },
    {
     "data": {
      "application/vnd.jupyter.widget-view+json": {
       "model_id": "",
       "version_major": 2,
       "version_minor": 0
      },
      "text/plain": [
       "  0%|          | 0/625 [00:00<?, ?it/s]"
      ]
     },
     "metadata": {},
     "output_type": "display_data"
    },
    {
     "data": {
      "application/vnd.jupyter.widget-view+json": {
       "model_id": "",
       "version_major": 2,
       "version_minor": 0
      },
      "text/plain": [
       "  0%|          | 0/625 [00:00<?, ?it/s]"
      ]
     },
     "metadata": {},
     "output_type": "display_data"
    },
    {
     "data": {
      "application/vnd.jupyter.widget-view+json": {
       "model_id": "",
       "version_major": 2,
       "version_minor": 0
      },
      "text/plain": [
       "  0%|          | 0/625 [00:00<?, ?it/s]"
      ]
     },
     "metadata": {},
     "output_type": "display_data"
    },
    {
     "data": {
      "application/vnd.jupyter.widget-view+json": {
       "model_id": "",
       "version_major": 2,
       "version_minor": 0
      },
      "text/plain": [
       "  0%|          | 0/313 [00:00<?, ?it/s]"
      ]
     },
     "metadata": {},
     "output_type": "display_data"
    },
    {
     "data": {
      "application/vnd.jupyter.widget-view+json": {
       "model_id": "",
       "version_major": 2,
       "version_minor": 0
      },
      "text/plain": [
       "  0%|          | 0/3 [00:00<?, ?it/s]"
      ]
     },
     "metadata": {},
     "output_type": "display_data"
    },
    {
     "data": {
      "application/vnd.jupyter.widget-view+json": {
       "model_id": "",
       "version_major": 2,
       "version_minor": 0
      },
      "text/plain": [
       "  0%|          | 0/4 [00:00<?, ?it/s]"
      ]
     },
     "metadata": {},
     "output_type": "display_data"
    },
    {
     "data": {
      "application/vnd.jupyter.widget-view+json": {
       "model_id": "",
       "version_major": 2,
       "version_minor": 0
      },
      "text/plain": [
       "  0%|          | 0/625 [00:00<?, ?it/s]"
      ]
     },
     "metadata": {},
     "output_type": "display_data"
    },
    {
     "data": {
      "application/vnd.jupyter.widget-view+json": {
       "model_id": "",
       "version_major": 2,
       "version_minor": 0
      },
      "text/plain": [
       "  0%|          | 0/625 [00:00<?, ?it/s]"
      ]
     },
     "metadata": {},
     "output_type": "display_data"
    },
    {
     "data": {
      "application/vnd.jupyter.widget-view+json": {
       "model_id": "",
       "version_major": 2,
       "version_minor": 0
      },
      "text/plain": [
       "  0%|          | 0/625 [00:00<?, ?it/s]"
      ]
     },
     "metadata": {},
     "output_type": "display_data"
    },
    {
     "data": {
      "application/vnd.jupyter.widget-view+json": {
       "model_id": "",
       "version_major": 2,
       "version_minor": 0
      },
      "text/plain": [
       "  0%|          | 0/625 [00:00<?, ?it/s]"
      ]
     },
     "metadata": {},
     "output_type": "display_data"
    },
    {
     "data": {
      "application/vnd.jupyter.widget-view+json": {
       "model_id": "",
       "version_major": 2,
       "version_minor": 0
      },
      "text/plain": [
       "  0%|          | 0/313 [00:00<?, ?it/s]"
      ]
     },
     "metadata": {},
     "output_type": "display_data"
    },
    {
     "data": {
      "application/vnd.jupyter.widget-view+json": {
       "model_id": "",
       "version_major": 2,
       "version_minor": 0
      },
      "text/plain": [
       "  0%|          | 0/4 [00:00<?, ?it/s]"
      ]
     },
     "metadata": {},
     "output_type": "display_data"
    },
    {
     "data": {
      "application/vnd.jupyter.widget-view+json": {
       "model_id": "",
       "version_major": 2,
       "version_minor": 0
      },
      "text/plain": [
       "  0%|          | 0/625 [00:00<?, ?it/s]"
      ]
     },
     "metadata": {},
     "output_type": "display_data"
    },
    {
     "data": {
      "application/vnd.jupyter.widget-view+json": {
       "model_id": "",
       "version_major": 2,
       "version_minor": 0
      },
      "text/plain": [
       "  0%|          | 0/625 [00:00<?, ?it/s]"
      ]
     },
     "metadata": {},
     "output_type": "display_data"
    },
    {
     "data": {
      "application/vnd.jupyter.widget-view+json": {
       "model_id": "",
       "version_major": 2,
       "version_minor": 0
      },
      "text/plain": [
       "  0%|          | 0/625 [00:00<?, ?it/s]"
      ]
     },
     "metadata": {},
     "output_type": "display_data"
    },
    {
     "data": {
      "application/vnd.jupyter.widget-view+json": {
       "model_id": "",
       "version_major": 2,
       "version_minor": 0
      },
      "text/plain": [
       "  0%|          | 0/625 [00:00<?, ?it/s]"
      ]
     },
     "metadata": {},
     "output_type": "display_data"
    },
    {
     "data": {
      "application/vnd.jupyter.widget-view+json": {
       "model_id": "",
       "version_major": 2,
       "version_minor": 0
      },
      "text/plain": [
       "  0%|          | 0/313 [00:00<?, ?it/s]"
      ]
     },
     "metadata": {},
     "output_type": "display_data"
    },
    {
     "data": {
      "application/vnd.jupyter.widget-view+json": {
       "model_id": "",
       "version_major": 2,
       "version_minor": 0
      },
      "text/plain": [
       "  0%|          | 0/4 [00:00<?, ?it/s]"
      ]
     },
     "metadata": {},
     "output_type": "display_data"
    },
    {
     "data": {
      "application/vnd.jupyter.widget-view+json": {
       "model_id": "",
       "version_major": 2,
       "version_minor": 0
      },
      "text/plain": [
       "  0%|          | 0/625 [00:00<?, ?it/s]"
      ]
     },
     "metadata": {},
     "output_type": "display_data"
    },
    {
     "data": {
      "application/vnd.jupyter.widget-view+json": {
       "model_id": "",
       "version_major": 2,
       "version_minor": 0
      },
      "text/plain": [
       "  0%|          | 0/625 [00:00<?, ?it/s]"
      ]
     },
     "metadata": {},
     "output_type": "display_data"
    },
    {
     "data": {
      "application/vnd.jupyter.widget-view+json": {
       "model_id": "",
       "version_major": 2,
       "version_minor": 0
      },
      "text/plain": [
       "  0%|          | 0/625 [00:00<?, ?it/s]"
      ]
     },
     "metadata": {},
     "output_type": "display_data"
    },
    {
     "data": {
      "application/vnd.jupyter.widget-view+json": {
       "model_id": "",
       "version_major": 2,
       "version_minor": 0
      },
      "text/plain": [
       "  0%|          | 0/625 [00:00<?, ?it/s]"
      ]
     },
     "metadata": {},
     "output_type": "display_data"
    },
    {
     "data": {
      "application/vnd.jupyter.widget-view+json": {
       "model_id": "",
       "version_major": 2,
       "version_minor": 0
      },
      "text/plain": [
       "  0%|          | 0/313 [00:00<?, ?it/s]"
      ]
     },
     "metadata": {},
     "output_type": "display_data"
    },
    {
     "data": {
      "application/vnd.jupyter.widget-view+json": {
       "model_id": "",
       "version_major": 2,
       "version_minor": 0
      },
      "text/plain": [
       "  0%|          | 0/3 [00:00<?, ?it/s]"
      ]
     },
     "metadata": {},
     "output_type": "display_data"
    },
    {
     "data": {
      "application/vnd.jupyter.widget-view+json": {
       "model_id": "",
       "version_major": 2,
       "version_minor": 0
      },
      "text/plain": [
       "  0%|          | 0/4 [00:00<?, ?it/s]"
      ]
     },
     "metadata": {},
     "output_type": "display_data"
    },
    {
     "data": {
      "application/vnd.jupyter.widget-view+json": {
       "model_id": "",
       "version_major": 2,
       "version_minor": 0
      },
      "text/plain": [
       "  0%|          | 0/625 [00:00<?, ?it/s]"
      ]
     },
     "metadata": {},
     "output_type": "display_data"
    },
    {
     "data": {
      "application/vnd.jupyter.widget-view+json": {
       "model_id": "",
       "version_major": 2,
       "version_minor": 0
      },
      "text/plain": [
       "  0%|          | 0/625 [00:00<?, ?it/s]"
      ]
     },
     "metadata": {},
     "output_type": "display_data"
    },
    {
     "data": {
      "application/vnd.jupyter.widget-view+json": {
       "model_id": "",
       "version_major": 2,
       "version_minor": 0
      },
      "text/plain": [
       "  0%|          | 0/625 [00:00<?, ?it/s]"
      ]
     },
     "metadata": {},
     "output_type": "display_data"
    },
    {
     "data": {
      "application/vnd.jupyter.widget-view+json": {
       "model_id": "",
       "version_major": 2,
       "version_minor": 0
      },
      "text/plain": [
       "  0%|          | 0/625 [00:00<?, ?it/s]"
      ]
     },
     "metadata": {},
     "output_type": "display_data"
    },
    {
     "data": {
      "application/vnd.jupyter.widget-view+json": {
       "model_id": "",
       "version_major": 2,
       "version_minor": 0
      },
      "text/plain": [
       "  0%|          | 0/313 [00:00<?, ?it/s]"
      ]
     },
     "metadata": {},
     "output_type": "display_data"
    },
    {
     "data": {
      "application/vnd.jupyter.widget-view+json": {
       "model_id": "",
       "version_major": 2,
       "version_minor": 0
      },
      "text/plain": [
       "  0%|          | 0/4 [00:00<?, ?it/s]"
      ]
     },
     "metadata": {},
     "output_type": "display_data"
    },
    {
     "data": {
      "application/vnd.jupyter.widget-view+json": {
       "model_id": "",
       "version_major": 2,
       "version_minor": 0
      },
      "text/plain": [
       "  0%|          | 0/625 [00:00<?, ?it/s]"
      ]
     },
     "metadata": {},
     "output_type": "display_data"
    },
    {
     "data": {
      "application/vnd.jupyter.widget-view+json": {
       "model_id": "",
       "version_major": 2,
       "version_minor": 0
      },
      "text/plain": [
       "  0%|          | 0/625 [00:00<?, ?it/s]"
      ]
     },
     "metadata": {},
     "output_type": "display_data"
    },
    {
     "data": {
      "application/vnd.jupyter.widget-view+json": {
       "model_id": "",
       "version_major": 2,
       "version_minor": 0
      },
      "text/plain": [
       "  0%|          | 0/625 [00:00<?, ?it/s]"
      ]
     },
     "metadata": {},
     "output_type": "display_data"
    },
    {
     "data": {
      "application/vnd.jupyter.widget-view+json": {
       "model_id": "",
       "version_major": 2,
       "version_minor": 0
      },
      "text/plain": [
       "  0%|          | 0/625 [00:00<?, ?it/s]"
      ]
     },
     "metadata": {},
     "output_type": "display_data"
    },
    {
     "data": {
      "application/vnd.jupyter.widget-view+json": {
       "model_id": "",
       "version_major": 2,
       "version_minor": 0
      },
      "text/plain": [
       "  0%|          | 0/313 [00:00<?, ?it/s]"
      ]
     },
     "metadata": {},
     "output_type": "display_data"
    },
    {
     "data": {
      "application/vnd.jupyter.widget-view+json": {
       "model_id": "",
       "version_major": 2,
       "version_minor": 0
      },
      "text/plain": [
       "  0%|          | 0/4 [00:00<?, ?it/s]"
      ]
     },
     "metadata": {},
     "output_type": "display_data"
    },
    {
     "data": {
      "application/vnd.jupyter.widget-view+json": {
       "model_id": "",
       "version_major": 2,
       "version_minor": 0
      },
      "text/plain": [
       "  0%|          | 0/625 [00:00<?, ?it/s]"
      ]
     },
     "metadata": {},
     "output_type": "display_data"
    },
    {
     "data": {
      "application/vnd.jupyter.widget-view+json": {
       "model_id": "",
       "version_major": 2,
       "version_minor": 0
      },
      "text/plain": [
       "  0%|          | 0/625 [00:00<?, ?it/s]"
      ]
     },
     "metadata": {},
     "output_type": "display_data"
    },
    {
     "data": {
      "application/vnd.jupyter.widget-view+json": {
       "model_id": "",
       "version_major": 2,
       "version_minor": 0
      },
      "text/plain": [
       "  0%|          | 0/625 [00:00<?, ?it/s]"
      ]
     },
     "metadata": {},
     "output_type": "display_data"
    },
    {
     "data": {
      "application/vnd.jupyter.widget-view+json": {
       "model_id": "",
       "version_major": 2,
       "version_minor": 0
      },
      "text/plain": [
       "  0%|          | 0/625 [00:00<?, ?it/s]"
      ]
     },
     "metadata": {},
     "output_type": "display_data"
    },
    {
     "data": {
      "application/vnd.jupyter.widget-view+json": {
       "model_id": "",
       "version_major": 2,
       "version_minor": 0
      },
      "text/plain": [
       "  0%|          | 0/313 [00:00<?, ?it/s]"
      ]
     },
     "metadata": {},
     "output_type": "display_data"
    }
   ],
   "source": [
    "scores = dict()\n",
    "\n",
    "for item in tqdm(grid):\n",
    "    list_of_scores = []\n",
    "    # Разбиение выборки на train и test:\n",
    "    for train_index, test_index in tqdm(cross_val.split(X_train),\n",
    "                                        total=number_of_batch, leave=False):\n",
    "        x_train_fold = X_train[train_index]\n",
    "        x_test_fold = X_train[test_index]\n",
    "        y_train_fold = Y_train[train_index]\n",
    "        y_test_fold = Y_train[test_index]\n",
    "        \n",
    "        # Перевод даных в тензоры:\n",
    "        traindata = torch.utils.data.TensorDataset(x_train_fold, y_train_fold)\n",
    "        testdata = torch.utils.data.TensorDataset(x_test_fold, y_test_fold)\n",
    "        \n",
    "        # Построение модели:\n",
    "        model = Perceptron(num_layers=item['num_layers'], p=item['p'],\n",
    "                           hidden_dim=item['hidden_dim'], device=device)\n",
    "        # Обучение модели:\n",
    "        _ = model.train()\n",
    "        trainer(model=model,\n",
    "                dataset=traindata,\n",
    "                loss_function=torch.nn.CrossEntropyLoss(),\n",
    "                optimizer=torch.optim.Adam(model.parameters(), lr=item['lr']),\n",
    "                epochs=4)\n",
    "        \n",
    "        # Результаты по модели\n",
    "        _ = model.eval()\n",
    "        acc, report = testing(model, testdata)\n",
    "        list_of_scores.append(acc)\n",
    "    scores[str(item)] = [np.mean(list_of_scores)]"
   ]
  },
  {
   "cell_type": "code",
   "execution_count": 35,
   "id": "durable-dublin",
   "metadata": {
    "scrolled": true
   },
   "outputs": [
    {
     "name": "stdout",
     "output_type": "stream",
     "text": [
      "+------------------------------------------------------------+---------------+\n",
      "|                                                            |       ACCURACY|\n",
      "+------------------------------------------------------------+---------------+\n",
      "|   {'hidden_dim': 8, 'lr': 0.001, 'num_layers': 0, 'p': 0.3}|           0.92|\n",
      "+------------------------------------------------------------+---------------+\n",
      "|   {'hidden_dim': 8, 'lr': 0.001, 'num_layers': 0, 'p': 0.7}|           0.92|\n",
      "+------------------------------------------------------------+---------------+\n",
      "|   {'hidden_dim': 8, 'lr': 0.001, 'num_layers': 2, 'p': 0.3}|           0.82|\n",
      "+------------------------------------------------------------+---------------+\n",
      "|   {'hidden_dim': 8, 'lr': 0.001, 'num_layers': 2, 'p': 0.7}|           0.56|\n",
      "+------------------------------------------------------------+---------------+\n",
      "|  {'hidden_dim': 64, 'lr': 0.001, 'num_layers': 0, 'p': 0.3}|           0.92|\n",
      "+------------------------------------------------------------+---------------+\n",
      "|  {'hidden_dim': 64, 'lr': 0.001, 'num_layers': 0, 'p': 0.7}|           0.92|\n",
      "+------------------------------------------------------------+---------------+\n",
      "|  {'hidden_dim': 64, 'lr': 0.001, 'num_layers': 2, 'p': 0.3}|           0.95|\n",
      "+------------------------------------------------------------+---------------+\n",
      "|  {'hidden_dim': 64, 'lr': 0.001, 'num_layers': 2, 'p': 0.7}|           0.91|\n",
      "+------------------------------------------------------------+---------------+\n"
     ]
    }
   ],
   "source": [
    "draw_table(scores)"
   ]
  },
  {
   "cell_type": "markdown",
   "id": "explicit-updating",
   "metadata": {},
   "source": [
    "**4. Прореживание нейронных сетей**"
   ]
  },
  {
   "cell_type": "markdown",
   "id": "raised-booking",
   "metadata": {},
   "source": [
    "О том, как удалять параметры (веса) и не терять качество."
   ]
  },
  {
   "cell_type": "markdown",
   "id": "bored-hypothesis",
   "metadata": {},
   "source": [
    "**Задача классификации**"
   ]
  },
  {
   "cell_type": "markdown",
   "id": "brave-residence",
   "metadata": {},
   "source": [
    "![Классификация](img/prorej.png 'Классификация')"
   ]
  },
  {
   "cell_type": "markdown",
   "id": "lucky-chick",
   "metadata": {},
   "source": [
    "Эксперимент ставится следующим образом. Нейронная сеть обучается на некоторых данных. Затем удаляется какой-то процент исходных параметров (весов). Затем нейросеть дообучается с новым набором параметров. Далее удаляется еще часть параметров и так далее.\n",
    "\n",
    "На графике выше отражено качество после дообучения.\n",
    "\n",
    "Из графика видно, что удаляя случайным образом параметры, можно удалить порядка $45\\%$ и не потерять в качестве.\n",
    "\n",
    "Более оптимальный метод Optimal Brain Damage позволяет удалить порядка $70\\%$ параметров без потери качества.\n",
    "\n",
    "Variational Method оценивает распределение каждого параметра (ковариация параметра + его среднее). Если отношение плотности вероятности параметра в нуле к плотности вероятности $V_0$ больше некоторого порога (с большой долей вероятности параметр находится в нуле), то параметр исключается. Он также позволяет исключить порядка $70\\%$ параметров.\n",
    "\n",
    "Метод удаления зависимых параметров исключает параметры, которые могут быть линейно зависимы. Данный метод позволяет исключить до $80\\%$ параметров без заметной потери качества."
   ]
  },
  {
   "cell_type": "markdown",
   "id": "exempt-liberty",
   "metadata": {},
   "source": [
    "**Задача регрессии**"
   ]
  },
  {
   "cell_type": "markdown",
   "id": "flush-tractor",
   "metadata": {},
   "source": [
    "![Регрессия](img\\std.png 'Регрессия')"
   ]
  },
  {
   "cell_type": "markdown",
   "id": "greek-canberra",
   "metadata": {},
   "source": [
    "В данном случае результаты примерно аналогичны. Метод Optimal Brain Damage по какой-то причине дал очень плохой результат."
   ]
  },
  {
   "cell_type": "markdown",
   "id": "typical-concentrate",
   "metadata": {},
   "source": [
    "Главный вывод здесь - не всегда много параметров это хорошо."
   ]
  }
 ],
 "metadata": {
  "kernelspec": {
   "display_name": "Python 3",
   "language": "python",
   "name": "python3"
  },
  "language_info": {
   "codemirror_mode": {
    "name": "ipython",
    "version": 3
   },
   "file_extension": ".py",
   "mimetype": "text/x-python",
   "name": "python",
   "nbconvert_exporter": "python",
   "pygments_lexer": "ipython3",
   "version": "3.7.9"
  }
 },
 "nbformat": 4,
 "nbformat_minor": 5
}
